{
 "cells": [
  {
   "cell_type": "code",
   "execution_count": 1,
   "id": "3be1eb49",
   "metadata": {},
   "outputs": [],
   "source": [
    "import pandas as pd\n",
    "import numpy as np\n",
    "import datetime\n",
    "import matplotlib as mpl\n",
    "import matplotlib.pyplot as plt\n",
    "import seaborn as sns\n",
    "import statistics\n",
    "\n",
    "mpl.style.use('bmh')"
   ]
  },
  {
   "cell_type": "code",
   "execution_count": 2,
   "id": "2e1251db",
   "metadata": {},
   "outputs": [],
   "source": [
    "full_info = pd.read_csv('Training DataFrame.csv', sep = ',')"
   ]
  },
  {
   "cell_type": "code",
   "execution_count": 3,
   "id": "ea8507d9",
   "metadata": {
    "scrolled": true
   },
   "outputs": [
    {
     "data": {
      "text/html": [
       "<div>\n",
       "<style scoped>\n",
       "    .dataframe tbody tr th:only-of-type {\n",
       "        vertical-align: middle;\n",
       "    }\n",
       "\n",
       "    .dataframe tbody tr th {\n",
       "        vertical-align: top;\n",
       "    }\n",
       "\n",
       "    .dataframe thead th {\n",
       "        text-align: right;\n",
       "    }\n",
       "</style>\n",
       "<table border=\"1\" class=\"dataframe\">\n",
       "  <thead>\n",
       "    <tr style=\"text-align: right;\">\n",
       "      <th></th>\n",
       "      <th>index</th>\n",
       "      <th>client_id</th>\n",
       "      <th>district_id</th>\n",
       "      <th>age</th>\n",
       "      <th>age_group</th>\n",
       "      <th>account_id</th>\n",
       "      <th>loan_id</th>\n",
       "      <th>amount</th>\n",
       "      <th>duration</th>\n",
       "      <th>payments</th>\n",
       "      <th>...</th>\n",
       "      <th>A8</th>\n",
       "      <th>total_of_cities</th>\n",
       "      <th>A10</th>\n",
       "      <th>avg_salary</th>\n",
       "      <th>A13</th>\n",
       "      <th>A14</th>\n",
       "      <th>A16</th>\n",
       "      <th>sex_number</th>\n",
       "      <th>loan_days</th>\n",
       "      <th>district_a_id</th>\n",
       "    </tr>\n",
       "  </thead>\n",
       "  <tbody>\n",
       "    <tr>\n",
       "      <th>0</th>\n",
       "      <td>0</td>\n",
       "      <td>2</td>\n",
       "      <td>1</td>\n",
       "      <td>53</td>\n",
       "      <td>50</td>\n",
       "      <td>2.0</td>\n",
       "      <td>4959</td>\n",
       "      <td>80952</td>\n",
       "      <td>24</td>\n",
       "      <td>3373.0</td>\n",
       "      <td>...</td>\n",
       "      <td>1</td>\n",
       "      <td>1</td>\n",
       "      <td>100.0</td>\n",
       "      <td>12541</td>\n",
       "      <td>0.43</td>\n",
       "      <td>167</td>\n",
       "      <td>99107</td>\n",
       "      <td>1</td>\n",
       "      <td>1822</td>\n",
       "      <td>1</td>\n",
       "    </tr>\n",
       "    <tr>\n",
       "      <th>1</th>\n",
       "      <td>79</td>\n",
       "      <td>25</td>\n",
       "      <td>21</td>\n",
       "      <td>59</td>\n",
       "      <td>50</td>\n",
       "      <td>19.0</td>\n",
       "      <td>4961</td>\n",
       "      <td>30276</td>\n",
       "      <td>12</td>\n",
       "      <td>2523.0</td>\n",
       "      <td>...</td>\n",
       "      <td>1</td>\n",
       "      <td>7</td>\n",
       "      <td>67.0</td>\n",
       "      <td>9104</td>\n",
       "      <td>2.07</td>\n",
       "      <td>123</td>\n",
       "      <td>2354</td>\n",
       "      <td>2</td>\n",
       "      <td>977</td>\n",
       "      <td>6</td>\n",
       "    </tr>\n",
       "    <tr>\n",
       "      <th>2</th>\n",
       "      <td>87</td>\n",
       "      <td>31</td>\n",
       "      <td>68</td>\n",
       "      <td>36</td>\n",
       "      <td>30</td>\n",
       "      <td>25.0</td>\n",
       "      <td>4962</td>\n",
       "      <td>30276</td>\n",
       "      <td>12</td>\n",
       "      <td>2523.0</td>\n",
       "      <td>...</td>\n",
       "      <td>2</td>\n",
       "      <td>6</td>\n",
       "      <td>57.2</td>\n",
       "      <td>9893</td>\n",
       "      <td>4.72</td>\n",
       "      <td>96</td>\n",
       "      <td>5887</td>\n",
       "      <td>1</td>\n",
       "      <td>389</td>\n",
       "      <td>5</td>\n",
       "    </tr>\n",
       "    <tr>\n",
       "      <th>3</th>\n",
       "      <td>102</td>\n",
       "      <td>45</td>\n",
       "      <td>20</td>\n",
       "      <td>46</td>\n",
       "      <td>40</td>\n",
       "      <td>37.0</td>\n",
       "      <td>4967</td>\n",
       "      <td>318480</td>\n",
       "      <td>60</td>\n",
       "      <td>5308.0</td>\n",
       "      <td>...</td>\n",
       "      <td>1</td>\n",
       "      <td>4</td>\n",
       "      <td>58.4</td>\n",
       "      <td>8547</td>\n",
       "      <td>3.64</td>\n",
       "      <td>120</td>\n",
       "      <td>1542</td>\n",
       "      <td>1</td>\n",
       "      <td>79</td>\n",
       "      <td>6</td>\n",
       "    </tr>\n",
       "    <tr>\n",
       "      <th>4</th>\n",
       "      <td>107</td>\n",
       "      <td>46</td>\n",
       "      <td>19</td>\n",
       "      <td>58</td>\n",
       "      <td>50</td>\n",
       "      <td>38.0</td>\n",
       "      <td>4968</td>\n",
       "      <td>110736</td>\n",
       "      <td>48</td>\n",
       "      <td>2307.0</td>\n",
       "      <td>...</td>\n",
       "      <td>1</td>\n",
       "      <td>4</td>\n",
       "      <td>52.7</td>\n",
       "      <td>8402</td>\n",
       "      <td>3.98</td>\n",
       "      <td>120</td>\n",
       "      <td>1099</td>\n",
       "      <td>2</td>\n",
       "      <td>257</td>\n",
       "      <td>6</td>\n",
       "    </tr>\n",
       "  </tbody>\n",
       "</table>\n",
       "<p>5 rows × 27 columns</p>\n",
       "</div>"
      ],
      "text/plain": [
       "   index  client_id  district_id  age  age_group  account_id  loan_id  amount  \\\n",
       "0      0          2            1   53         50         2.0     4959   80952   \n",
       "1     79         25           21   59         50        19.0     4961   30276   \n",
       "2     87         31           68   36         30        25.0     4962   30276   \n",
       "3    102         45           20   46         40        37.0     4967  318480   \n",
       "4    107         46           19   58         50        38.0     4968  110736   \n",
       "\n",
       "   duration  payments  ... A8  total_of_cities    A10  avg_salary   A13  A14  \\\n",
       "0        24    3373.0  ...  1                1  100.0       12541  0.43  167   \n",
       "1        12    2523.0  ...  1                7   67.0        9104  2.07  123   \n",
       "2        12    2523.0  ...  2                6   57.2        9893  4.72   96   \n",
       "3        60    5308.0  ...  1                4   58.4        8547  3.64  120   \n",
       "4        48    2307.0  ...  1                4   52.7        8402  3.98  120   \n",
       "\n",
       "     A16  sex_number  loan_days  district_a_id  \n",
       "0  99107           1       1822              1  \n",
       "1   2354           2        977              6  \n",
       "2   5887           1        389              5  \n",
       "3   1542           1         79              6  \n",
       "4   1099           2        257              6  \n",
       "\n",
       "[5 rows x 27 columns]"
      ]
     },
     "execution_count": 3,
     "metadata": {},
     "output_type": "execute_result"
    }
   ],
   "source": [
    "full_info.head()"
   ]
  },
  {
   "cell_type": "code",
   "execution_count": 4,
   "id": "06a2e76e",
   "metadata": {},
   "outputs": [],
   "source": [
    "A = full_info[full_info['status'] == 'A']\n",
    "B = full_info[full_info['status'] == 'B']\n",
    "C = full_info[full_info['status'] == 'C']\n",
    "D = full_info[full_info['status'] == 'D']"
   ]
  },
  {
   "cell_type": "code",
   "execution_count": 5,
   "id": "c9264b55",
   "metadata": {
    "scrolled": false
   },
   "outputs": [
    {
     "data": {
      "text/plain": [
       "<matplotlib.legend.Legend at 0x254be15e640>"
      ]
     },
     "execution_count": 5,
     "metadata": {},
     "output_type": "execute_result"
    },
    {
     "data": {
      "image/png": "[encoded data removed]",
      "text/plain": [
       "<Figure size 1080x360 with 1 Axes>"
      ]
     },
     "metadata": {},
     "output_type": "display_data"
    }
   ],
   "source": [
    "sns.set(rc = {'figure.figsize':(15,5)})\n",
    "sns.scatterplot(data = A, x = \"trans_amount\", y = \"balance\")\n",
    "sns.scatterplot(data = B, x = \"trans_amount\", y = \"balance\",color = 'r')\n",
    "\n",
    "plt.legend(labels=[\"A\",\"B\"])"
   ]
  },
  {
   "cell_type": "code",
   "execution_count": 6,
   "id": "8f530573",
   "metadata": {
    "scrolled": false
   },
   "outputs": [
    {
     "data": {
      "text/plain": [
       "<matplotlib.legend.Legend at 0x254be67b1f0>"
      ]
     },
     "execution_count": 6,
     "metadata": {},
     "output_type": "execute_result"
    },
    {
     "data": {
      "image/png": "[encoded data removed]",
      "text/plain": [
       "<Figure size 1080x360 with 1 Axes>"
      ]
     },
     "metadata": {},
     "output_type": "display_data"
    }
   ],
   "source": [
    "sns.set(rc = {'figure.figsize':(15,5)})\n",
    "sns.scatterplot(data = C, x = \"trans_amount\", y = \"balance\")\n",
    "sns.scatterplot(data = D, x = \"trans_amount\", y = \"balance\", color='r')\n",
    "\n",
    "plt.legend(labels=[\"C\",\"D\"])"
   ]
  },
  {
   "cell_type": "code",
   "execution_count": 7,
   "id": "c4aff415",
   "metadata": {
    "scrolled": false
   },
   "outputs": [
    {
     "data": {
      "text/plain": [
       "<matplotlib.legend.Legend at 0x254be2834f0>"
      ]
     },
     "execution_count": 7,
     "metadata": {},
     "output_type": "execute_result"
    },
    {
     "data": {
      "image/png": "[encoded data removed]",
      "text/plain": [
       "<Figure size 1080x360 with 1 Axes>"
      ]
     },
     "metadata": {},
     "output_type": "display_data"
    }
   ],
   "source": [
    "sns.set(rc = {'figure.figsize':(15,5)})\n",
    "sns.scatterplot(data = A, x = \"trans_amount\", y = \"balance\")\n",
    "sns.scatterplot(data = B, x = \"trans_amount\", y = \"balance\")\n",
    "sns.scatterplot(data = C, x = \"trans_amount\", y = \"balance\")\n",
    "sns.scatterplot(data = D, x = \"trans_amount\", y = \"balance\")\n",
    "\n",
    "plt.legend(labels=[\"A\",\"B\",\"C\",\"D\"])"
   ]
  },
  {
   "cell_type": "markdown",
   "id": "7d1b2c4a",
   "metadata": {},
   "source": [
    "# Hipótesis: \n",
    "\n",
    "Variables a elegir: \n",
    "\n",
    "- [trans_amount, balance], ya que ambas tienen una relación directa una con otra y a partir de ahí se pueden definir las categorías de cada cuenta.\n",
    "\n",
    "Elección de Algoritmo:\n",
    "\n",
    "- Se busca obtener razones por las cuales los clientes pasan a tener una cuenta A o B. Entonces, se necesita utilizar\n",
    "un algoritmo de clasificación, con el afán de tener un entrenamiento que nos divida a cada grupo de acuerdo a su\n",
    "relación. Para realizarlo, se propone el algoritmo de K-Nearest-Neighbor (KNN) o un Random Forest.\n",
    "\n",
    "Comparación de algoritmos seleccionados contra otros algoritmos:\n",
    "\n",
    "- Se eligió el algoritmo KNN porque, a diferencia del arbol de decisiones, el KNN se calcula a través de distancias\n",
    "euclideanas lo que le ayuda con la cantidad de outlyiers que tiene nuestro dataset y no se desvía como sí lo haría un\n",
    "árbol de decisiones. Tampoco se eligió una función sigmoidal/logística, porque los datos tienen valores muy grandes,\n",
    "aunque no se descarta por completo, porque aún se pueden normalizar dichos valores para que puedan ser clasificados\n",
    "por la función\n",
    "\n",
    "Propósito del trabajo a realizar:\n",
    "\n",
    "- El propósito a realizar esta clasificación es para predecir si los clientes en las categorías C podrían llegar a ser\n",
    "parte de aquellos en la categoría A o B. Así también, se puede hacer una clasificación propia para C y saber si los \n",
    "de la categoría D pueden llegar a transformarse propiamente en C o si tienden a ir directamente a B."
   ]
  },
  {
   "cell_type": "markdown",
   "id": "03d3fdd5",
   "metadata": {},
   "source": [
    "# CLASIFICACIÓN"
   ]
  },
  {
   "cell_type": "code",
   "execution_count": 8,
   "id": "2d28fa07",
   "metadata": {},
   "outputs": [],
   "source": [
    "#from sklearn.linear_model import LogisticRegression\n",
    "from sklearn.neighbors import KNeighborsClassifier\n",
    "from sklearn.ensemble import RandomForestClassifier\n",
    "\n",
    "from sklearn.model_selection import train_test_split\n",
    "from sklearn import metrics"
   ]
  },
  {
   "cell_type": "code",
   "execution_count": 9,
   "id": "6de859f2",
   "metadata": {},
   "outputs": [
    {
     "name": "stderr",
     "output_type": "stream",
     "text": [
      "C:\\Users\\camil\\AppData\\Local\\Temp/ipykernel_15260/3409706720.py:1: SettingWithCopyWarning: \n",
      "A value is trying to be set on a copy of a slice from a DataFrame.\n",
      "Try using .loc[row_indexer,col_indexer] = value instead\n",
      "\n",
      "See the caveats in the documentation: https://pandas.pydata.org/pandas-docs/stable/user_guide/indexing.html#returning-a-view-versus-a-copy\n",
      "  A['status_number'] = np.ones(len(A['status']), dtype=int)\n",
      "C:\\Users\\camil\\AppData\\Local\\Temp/ipykernel_15260/3409706720.py:2: SettingWithCopyWarning: \n",
      "A value is trying to be set on a copy of a slice from a DataFrame.\n",
      "Try using .loc[row_indexer,col_indexer] = value instead\n",
      "\n",
      "See the caveats in the documentation: https://pandas.pydata.org/pandas-docs/stable/user_guide/indexing.html#returning-a-view-versus-a-copy\n",
      "  B['status_number'] = np.zeros(len(B['status']), dtype=int)\n"
     ]
    }
   ],
   "source": [
    "A['status_number'] = np.ones(len(A['status']), dtype=int)\n",
    "B['status_number'] = np.zeros(len(B['status']), dtype=int)\n",
    "AB = pd.concat([A,B])"
   ]
  },
  {
   "cell_type": "code",
   "execution_count": 10,
   "id": "78602898",
   "metadata": {},
   "outputs": [
    {
     "data": {
      "text/html": [
       "<div>\n",
       "<style scoped>\n",
       "    .dataframe tbody tr th:only-of-type {\n",
       "        vertical-align: middle;\n",
       "    }\n",
       "\n",
       "    .dataframe tbody tr th {\n",
       "        vertical-align: top;\n",
       "    }\n",
       "\n",
       "    .dataframe thead th {\n",
       "        text-align: right;\n",
       "    }\n",
       "</style>\n",
       "<table border=\"1\" class=\"dataframe\">\n",
       "  <thead>\n",
       "    <tr style=\"text-align: right;\">\n",
       "      <th></th>\n",
       "      <th>index</th>\n",
       "      <th>client_id</th>\n",
       "      <th>district_id</th>\n",
       "      <th>age</th>\n",
       "      <th>age_group</th>\n",
       "      <th>account_id</th>\n",
       "      <th>loan_id</th>\n",
       "      <th>amount</th>\n",
       "      <th>duration</th>\n",
       "      <th>payments</th>\n",
       "      <th>...</th>\n",
       "      <th>total_of_cities</th>\n",
       "      <th>A10</th>\n",
       "      <th>avg_salary</th>\n",
       "      <th>A13</th>\n",
       "      <th>A14</th>\n",
       "      <th>A16</th>\n",
       "      <th>sex_number</th>\n",
       "      <th>loan_days</th>\n",
       "      <th>district_a_id</th>\n",
       "      <th>status_number</th>\n",
       "    </tr>\n",
       "  </thead>\n",
       "  <tbody>\n",
       "    <tr>\n",
       "      <th>0</th>\n",
       "      <td>0</td>\n",
       "      <td>2</td>\n",
       "      <td>1</td>\n",
       "      <td>53</td>\n",
       "      <td>50</td>\n",
       "      <td>2.0</td>\n",
       "      <td>4959</td>\n",
       "      <td>80952</td>\n",
       "      <td>24</td>\n",
       "      <td>3373.0</td>\n",
       "      <td>...</td>\n",
       "      <td>1</td>\n",
       "      <td>100.0</td>\n",
       "      <td>12541</td>\n",
       "      <td>0.43</td>\n",
       "      <td>167</td>\n",
       "      <td>99107</td>\n",
       "      <td>1</td>\n",
       "      <td>1822</td>\n",
       "      <td>1</td>\n",
       "      <td>1</td>\n",
       "    </tr>\n",
       "    <tr>\n",
       "      <th>1</th>\n",
       "      <td>79</td>\n",
       "      <td>25</td>\n",
       "      <td>21</td>\n",
       "      <td>59</td>\n",
       "      <td>50</td>\n",
       "      <td>19.0</td>\n",
       "      <td>4961</td>\n",
       "      <td>30276</td>\n",
       "      <td>12</td>\n",
       "      <td>2523.0</td>\n",
       "      <td>...</td>\n",
       "      <td>7</td>\n",
       "      <td>67.0</td>\n",
       "      <td>9104</td>\n",
       "      <td>2.07</td>\n",
       "      <td>123</td>\n",
       "      <td>2354</td>\n",
       "      <td>2</td>\n",
       "      <td>977</td>\n",
       "      <td>6</td>\n",
       "      <td>0</td>\n",
       "    </tr>\n",
       "    <tr>\n",
       "      <th>2</th>\n",
       "      <td>87</td>\n",
       "      <td>31</td>\n",
       "      <td>68</td>\n",
       "      <td>36</td>\n",
       "      <td>30</td>\n",
       "      <td>25.0</td>\n",
       "      <td>4962</td>\n",
       "      <td>30276</td>\n",
       "      <td>12</td>\n",
       "      <td>2523.0</td>\n",
       "      <td>...</td>\n",
       "      <td>6</td>\n",
       "      <td>57.2</td>\n",
       "      <td>9893</td>\n",
       "      <td>4.72</td>\n",
       "      <td>96</td>\n",
       "      <td>5887</td>\n",
       "      <td>1</td>\n",
       "      <td>389</td>\n",
       "      <td>5</td>\n",
       "      <td>1</td>\n",
       "    </tr>\n",
       "    <tr>\n",
       "      <th>5</th>\n",
       "      <td>119</td>\n",
       "      <td>78</td>\n",
       "      <td>16</td>\n",
       "      <td>54</td>\n",
       "      <td>50</td>\n",
       "      <td>67.0</td>\n",
       "      <td>4973</td>\n",
       "      <td>165960</td>\n",
       "      <td>24</td>\n",
       "      <td>6915.0</td>\n",
       "      <td>...</td>\n",
       "      <td>8</td>\n",
       "      <td>56.9</td>\n",
       "      <td>8427</td>\n",
       "      <td>1.54</td>\n",
       "      <td>107</td>\n",
       "      <td>1913</td>\n",
       "      <td>2</td>\n",
       "      <td>974</td>\n",
       "      <td>6</td>\n",
       "      <td>1</td>\n",
       "    </tr>\n",
       "    <tr>\n",
       "      <th>6</th>\n",
       "      <td>130</td>\n",
       "      <td>116</td>\n",
       "      <td>74</td>\n",
       "      <td>56</td>\n",
       "      <td>50</td>\n",
       "      <td>97.0</td>\n",
       "      <td>4986</td>\n",
       "      <td>102876</td>\n",
       "      <td>12</td>\n",
       "      <td>8573.0</td>\n",
       "      <td>...</td>\n",
       "      <td>1</td>\n",
       "      <td>100.0</td>\n",
       "      <td>10673</td>\n",
       "      <td>5.44</td>\n",
       "      <td>100</td>\n",
       "      <td>18347</td>\n",
       "      <td>1</td>\n",
       "      <td>509</td>\n",
       "      <td>5</td>\n",
       "      <td>1</td>\n",
       "    </tr>\n",
       "    <tr>\n",
       "      <th>...</th>\n",
       "      <td>...</td>\n",
       "      <td>...</td>\n",
       "      <td>...</td>\n",
       "      <td>...</td>\n",
       "      <td>...</td>\n",
       "      <td>...</td>\n",
       "      <td>...</td>\n",
       "      <td>...</td>\n",
       "      <td>...</td>\n",
       "      <td>...</td>\n",
       "      <td>...</td>\n",
       "      <td>...</td>\n",
       "      <td>...</td>\n",
       "      <td>...</td>\n",
       "      <td>...</td>\n",
       "      <td>...</td>\n",
       "      <td>...</td>\n",
       "      <td>...</td>\n",
       "      <td>...</td>\n",
       "      <td>...</td>\n",
       "      <td>...</td>\n",
       "    </tr>\n",
       "    <tr>\n",
       "      <th>670</th>\n",
       "      <td>76</td>\n",
       "      <td>13694</td>\n",
       "      <td>1</td>\n",
       "      <td>22</td>\n",
       "      <td>20</td>\n",
       "      <td>11141.0</td>\n",
       "      <td>7264</td>\n",
       "      <td>44940</td>\n",
       "      <td>12</td>\n",
       "      <td>3745.0</td>\n",
       "      <td>...</td>\n",
       "      <td>1</td>\n",
       "      <td>100.0</td>\n",
       "      <td>12541</td>\n",
       "      <td>0.43</td>\n",
       "      <td>167</td>\n",
       "      <td>99107</td>\n",
       "      <td>2</td>\n",
       "      <td>451</td>\n",
       "      <td>1</td>\n",
       "      <td>1</td>\n",
       "    </tr>\n",
       "    <tr>\n",
       "      <th>672</th>\n",
       "      <td>77</td>\n",
       "      <td>13803</td>\n",
       "      <td>1</td>\n",
       "      <td>51</td>\n",
       "      <td>50</td>\n",
       "      <td>11231.0</td>\n",
       "      <td>7277</td>\n",
       "      <td>89280</td>\n",
       "      <td>12</td>\n",
       "      <td>7440.0</td>\n",
       "      <td>...</td>\n",
       "      <td>1</td>\n",
       "      <td>100.0</td>\n",
       "      <td>12541</td>\n",
       "      <td>0.43</td>\n",
       "      <td>167</td>\n",
       "      <td>99107</td>\n",
       "      <td>1</td>\n",
       "      <td>434</td>\n",
       "      <td>1</td>\n",
       "      <td>1</td>\n",
       "    </tr>\n",
       "    <tr>\n",
       "      <th>674</th>\n",
       "      <td>240</td>\n",
       "      <td>13845</td>\n",
       "      <td>15</td>\n",
       "      <td>25</td>\n",
       "      <td>20</td>\n",
       "      <td>11265.0</td>\n",
       "      <td>7284</td>\n",
       "      <td>52788</td>\n",
       "      <td>12</td>\n",
       "      <td>4399.0</td>\n",
       "      <td>...</td>\n",
       "      <td>5</td>\n",
       "      <td>51.9</td>\n",
       "      <td>9045</td>\n",
       "      <td>3.60</td>\n",
       "      <td>124</td>\n",
       "      <td>1879</td>\n",
       "      <td>1</td>\n",
       "      <td>1934</td>\n",
       "      <td>6</td>\n",
       "      <td>1</td>\n",
       "    </tr>\n",
       "    <tr>\n",
       "      <th>680</th>\n",
       "      <td>656</td>\n",
       "      <td>13968</td>\n",
       "      <td>61</td>\n",
       "      <td>30</td>\n",
       "      <td>30</td>\n",
       "      <td>11359.0</td>\n",
       "      <td>7305</td>\n",
       "      <td>54024</td>\n",
       "      <td>12</td>\n",
       "      <td>4502.0</td>\n",
       "      <td>...</td>\n",
       "      <td>6</td>\n",
       "      <td>53.8</td>\n",
       "      <td>8814</td>\n",
       "      <td>5.74</td>\n",
       "      <td>107</td>\n",
       "      <td>2059</td>\n",
       "      <td>1</td>\n",
       "      <td>878</td>\n",
       "      <td>7</td>\n",
       "      <td>1</td>\n",
       "    </tr>\n",
       "    <tr>\n",
       "      <th>681</th>\n",
       "      <td>561</td>\n",
       "      <td>13971</td>\n",
       "      <td>67</td>\n",
       "      <td>36</td>\n",
       "      <td>30</td>\n",
       "      <td>11362.0</td>\n",
       "      <td>7308</td>\n",
       "      <td>129408</td>\n",
       "      <td>24</td>\n",
       "      <td>5392.0</td>\n",
       "      <td>...</td>\n",
       "      <td>6</td>\n",
       "      <td>63.1</td>\n",
       "      <td>8110</td>\n",
       "      <td>6.55</td>\n",
       "      <td>109</td>\n",
       "      <td>3079</td>\n",
       "      <td>2</td>\n",
       "      <td>735</td>\n",
       "      <td>5</td>\n",
       "      <td>1</td>\n",
       "    </tr>\n",
       "  </tbody>\n",
       "</table>\n",
       "<p>234 rows × 28 columns</p>\n",
       "</div>"
      ],
      "text/plain": [
       "     index  client_id  district_id  age  age_group  account_id  loan_id  \\\n",
       "0        0          2            1   53         50         2.0     4959   \n",
       "1       79         25           21   59         50        19.0     4961   \n",
       "2       87         31           68   36         30        25.0     4962   \n",
       "5      119         78           16   54         50        67.0     4973   \n",
       "6      130        116           74   56         50        97.0     4986   \n",
       "..     ...        ...          ...  ...        ...         ...      ...   \n",
       "670     76      13694            1   22         20     11141.0     7264   \n",
       "672     77      13803            1   51         50     11231.0     7277   \n",
       "674    240      13845           15   25         20     11265.0     7284   \n",
       "680    656      13968           61   30         30     11359.0     7305   \n",
       "681    561      13971           67   36         30     11362.0     7308   \n",
       "\n",
       "     amount  duration  payments  ... total_of_cities    A10  avg_salary   A13  \\\n",
       "0     80952        24    3373.0  ...               1  100.0       12541  0.43   \n",
       "1     30276        12    2523.0  ...               7   67.0        9104  2.07   \n",
       "2     30276        12    2523.0  ...               6   57.2        9893  4.72   \n",
       "5    165960        24    6915.0  ...               8   56.9        8427  1.54   \n",
       "6    102876        12    8573.0  ...               1  100.0       10673  5.44   \n",
       "..      ...       ...       ...  ...             ...    ...         ...   ...   \n",
       "670   44940        12    3745.0  ...               1  100.0       12541  0.43   \n",
       "672   89280        12    7440.0  ...               1  100.0       12541  0.43   \n",
       "674   52788        12    4399.0  ...               5   51.9        9045  3.60   \n",
       "680   54024        12    4502.0  ...               6   53.8        8814  5.74   \n",
       "681  129408        24    5392.0  ...               6   63.1        8110  6.55   \n",
       "\n",
       "     A14    A16  sex_number  loan_days  district_a_id  status_number  \n",
       "0    167  99107           1       1822              1              1  \n",
       "1    123   2354           2        977              6              0  \n",
       "2     96   5887           1        389              5              1  \n",
       "5    107   1913           2        974              6              1  \n",
       "6    100  18347           1        509              5              1  \n",
       "..   ...    ...         ...        ...            ...            ...  \n",
       "670  167  99107           2        451              1              1  \n",
       "672  167  99107           1        434              1              1  \n",
       "674  124   1879           1       1934              6              1  \n",
       "680  107   2059           1        878              7              1  \n",
       "681  109   3079           2        735              5              1  \n",
       "\n",
       "[234 rows x 28 columns]"
      ]
     },
     "execution_count": 10,
     "metadata": {},
     "output_type": "execute_result"
    }
   ],
   "source": [
    "AB.sort_values(by = 'account_id')"
   ]
  },
  {
   "cell_type": "code",
   "execution_count": 11,
   "id": "1db44da2",
   "metadata": {
    "scrolled": true
   },
   "outputs": [],
   "source": [
    "X = AB.loc[:,~AB.columns.isin(['status','status_number'])]\n",
    "y = AB['status_number']"
   ]
  },
  {
   "cell_type": "code",
   "execution_count": 12,
   "id": "8756a728",
   "metadata": {},
   "outputs": [],
   "source": [
    "X_train, X_test, y_train, y_test = train_test_split(X,y,test_size=0.2, random_state=1)"
   ]
  },
  {
   "cell_type": "code",
   "execution_count": 13,
   "id": "22a9bed3",
   "metadata": {},
   "outputs": [],
   "source": [
    "modelo_KNN = KNeighborsClassifier()\n",
    "modelo_RF = RandomForestClassifier()"
   ]
  },
  {
   "cell_type": "code",
   "execution_count": 14,
   "id": "d458788b",
   "metadata": {},
   "outputs": [
    {
     "data": {
      "text/plain": [
       "RandomForestClassifier()"
      ]
     },
     "execution_count": 14,
     "metadata": {},
     "output_type": "execute_result"
    }
   ],
   "source": [
    "modelo_KNN.fit(X_train, y_train)\n",
    "modelo_RF.fit(X_train, y_train)"
   ]
  },
  {
   "cell_type": "code",
   "execution_count": 15,
   "id": "822d5b93",
   "metadata": {},
   "outputs": [],
   "source": [
    "preds_KNN = modelo_KNN.predict(X_test)\n",
    "preds_RF = modelo_RF.predict(X_test)"
   ]
  },
  {
   "cell_type": "markdown",
   "id": "45ad61d5",
   "metadata": {},
   "source": [
    "# KNN"
   ]
  },
  {
   "cell_type": "code",
   "execution_count": 16,
   "id": "9cc4f03a",
   "metadata": {},
   "outputs": [
    {
     "data": {
      "text/plain": [
       "array([1, 1, 1, 1, 1, 1, 1, 1, 1, 1, 1, 1, 1, 1, 1, 1, 1, 1, 1, 1, 0, 1,\n",
       "       1, 1, 1, 1, 1, 1, 1, 1, 1, 1, 1, 1, 1, 1, 1, 1, 1, 1, 1, 1, 1, 1,\n",
       "       1, 1, 1])"
      ]
     },
     "execution_count": 16,
     "metadata": {},
     "output_type": "execute_result"
    }
   ],
   "source": [
    "preds_KNN"
   ]
  },
  {
   "cell_type": "code",
   "execution_count": 17,
   "id": "a597574a",
   "metadata": {},
   "outputs": [
    {
     "data": {
      "text/plain": [
       "<sklearn.metrics._plot.confusion_matrix.ConfusionMatrixDisplay at 0x254bee52fd0>"
      ]
     },
     "execution_count": 17,
     "metadata": {},
     "output_type": "execute_result"
    },
    {
     "data": {
      "text/plain": [
       "<Figure size 720x432 with 0 Axes>"
      ]
     },
     "metadata": {},
     "output_type": "display_data"
    },
    {
     "data": {
      "image/png": "[encoded data removed]",
      "text/plain": [
       "<Figure size 1080x360 with 2 Axes>"
      ]
     },
     "metadata": {},
     "output_type": "display_data"
    }
   ],
   "source": [
    "plt.figure(figsize=(10,6))\n",
    "metrics.plot_confusion_matrix(modelo_KNN, X_test, y_test, display_labels=['Negative', 'Positive'])"
   ]
  },
  {
   "cell_type": "code",
   "execution_count": 18,
   "id": "9c15279f",
   "metadata": {},
   "outputs": [
    {
     "data": {
      "text/plain": [
       "array([ 1,  6,  0, 40], dtype=int64)"
      ]
     },
     "execution_count": 18,
     "metadata": {},
     "output_type": "execute_result"
    }
   ],
   "source": [
    "confusion = metrics.confusion_matrix(y_test, preds_KNN)\n",
    "confusion.ravel()"
   ]
  },
  {
   "cell_type": "code",
   "execution_count": 19,
   "id": "14145f85",
   "metadata": {},
   "outputs": [
    {
     "data": {
      "text/plain": [
       "0.8723404255319149"
      ]
     },
     "execution_count": 19,
     "metadata": {},
     "output_type": "execute_result"
    }
   ],
   "source": [
    "accuracy = metrics.accuracy_score(y_test, preds_KNN)\n",
    "accuracy "
   ]
  },
  {
   "cell_type": "code",
   "execution_count": 20,
   "id": "4fa72661",
   "metadata": {},
   "outputs": [
    {
     "data": {
      "text/plain": [
       "(0.8695652173913043, 1.0)"
      ]
     },
     "execution_count": 20,
     "metadata": {},
     "output_type": "execute_result"
    }
   ],
   "source": [
    "precision_positiva = metrics.precision_score(y_test, preds_KNN, pos_label=1)\n",
    "precision_negativa = metrics.precision_score(y_test, preds_KNN, pos_label=0)\n",
    "precision_positiva, precision_negativa "
   ]
  },
  {
   "cell_type": "code",
   "execution_count": 21,
   "id": "639ada6c",
   "metadata": {},
   "outputs": [
    {
     "data": {
      "text/plain": [
       "(1.0, 0.14285714285714285)"
      ]
     },
     "execution_count": 21,
     "metadata": {},
     "output_type": "execute_result"
    }
   ],
   "source": [
    "recall_sensibilidad = metrics.recall_score(y_test, preds_KNN, pos_label=1)\n",
    "recall_especificidad= metrics.recall_score(y_test, preds_KNN, pos_label=0)\n",
    "recall_sensibilidad, recall_especificidad"
   ]
  },
  {
   "cell_type": "code",
   "execution_count": 22,
   "id": "2674d05e",
   "metadata": {},
   "outputs": [
    {
     "data": {
      "text/plain": [
       "(0.9302325581395349, 0.25)"
      ]
     },
     "execution_count": 22,
     "metadata": {},
     "output_type": "execute_result"
    }
   ],
   "source": [
    "f1_positivo = metrics.f1_score(y_test, preds_KNN, pos_label=1)\n",
    "f1_negativo = metrics.f1_score(y_test, preds_KNN, pos_label=0)\n",
    "f1_positivo, f1_negativo "
   ]
  },
  {
   "cell_type": "code",
   "execution_count": 23,
   "id": "5015f371",
   "metadata": {},
   "outputs": [
    {
     "name": "stdout",
     "output_type": "stream",
     "text": [
      "              precision    recall  f1-score   support\n",
      "\n",
      "           0       1.00      0.14      0.25         7\n",
      "           1       0.87      1.00      0.93        40\n",
      "\n",
      "    accuracy                           0.87        47\n",
      "   macro avg       0.93      0.57      0.59        47\n",
      "weighted avg       0.89      0.87      0.83        47\n",
      "\n"
     ]
    }
   ],
   "source": [
    "print(metrics.classification_report(y_test, preds_KNN))"
   ]
  },
  {
   "cell_type": "code",
   "execution_count": 24,
   "id": "231c81be",
   "metadata": {},
   "outputs": [
    {
     "data": {
      "text/plain": [
       "<sklearn.metrics._plot.roc_curve.RocCurveDisplay at 0x254bee6f490>"
      ]
     },
     "execution_count": 24,
     "metadata": {},
     "output_type": "execute_result"
    },
    {
     "data": {
      "image/png": "[encoded data removed]",
      "text/plain": [
       "<Figure size 1080x360 with 1 Axes>"
      ]
     },
     "metadata": {},
     "output_type": "display_data"
    }
   ],
   "source": [
    "metrics.plot_roc_curve(modelo_KNN,X_test,y_test)"
   ]
  },
  {
   "cell_type": "markdown",
   "id": "3dc7ee6a",
   "metadata": {},
   "source": [
    "# Random Forest"
   ]
  },
  {
   "cell_type": "code",
   "execution_count": 25,
   "id": "eb73c308",
   "metadata": {},
   "outputs": [
    {
     "data": {
      "text/plain": [
       "array([1, 1, 1, 1, 1, 1, 1, 1, 1, 1, 1, 1, 1, 1, 1, 1, 1, 1, 1, 1, 1, 1,\n",
       "       1, 1, 1, 1, 1, 1, 1, 1, 1, 1, 1, 1, 1, 1, 1, 1, 1, 1, 1, 1, 1, 1,\n",
       "       1, 1, 1])"
      ]
     },
     "execution_count": 25,
     "metadata": {},
     "output_type": "execute_result"
    }
   ],
   "source": [
    "preds_RF"
   ]
  },
  {
   "cell_type": "code",
   "execution_count": 26,
   "id": "959272bb",
   "metadata": {},
   "outputs": [
    {
     "data": {
      "text/plain": [
       "<sklearn.metrics._plot.confusion_matrix.ConfusionMatrixDisplay at 0x254bf5c5850>"
      ]
     },
     "execution_count": 26,
     "metadata": {},
     "output_type": "execute_result"
    },
    {
     "data": {
      "text/plain": [
       "<Figure size 720x432 with 0 Axes>"
      ]
     },
     "metadata": {},
     "output_type": "display_data"
    },
    {
     "data": {
      "image/png": "[encoded data removed]",
      "text/plain": [
       "<Figure size 1080x360 with 2 Axes>"
      ]
     },
     "metadata": {},
     "output_type": "display_data"
    }
   ],
   "source": [
    "plt.figure(figsize=(10,6))\n",
    "metrics.plot_confusion_matrix(modelo_RF, X_test, y_test, display_labels=['Negative', 'Positive'])"
   ]
  },
  {
   "cell_type": "code",
   "execution_count": 27,
   "id": "0653b401",
   "metadata": {},
   "outputs": [
    {
     "data": {
      "text/plain": [
       "array([ 0,  7,  0, 40], dtype=int64)"
      ]
     },
     "execution_count": 27,
     "metadata": {},
     "output_type": "execute_result"
    }
   ],
   "source": [
    "confusion = metrics.confusion_matrix(y_test, preds_RF)\n",
    "confusion.ravel()"
   ]
  },
  {
   "cell_type": "code",
   "execution_count": 28,
   "id": "c817d5e7",
   "metadata": {},
   "outputs": [
    {
     "data": {
      "text/plain": [
       "0.851063829787234"
      ]
     },
     "execution_count": 28,
     "metadata": {},
     "output_type": "execute_result"
    }
   ],
   "source": [
    "accuracy = metrics.accuracy_score(y_test, preds_RF)\n",
    "accuracy "
   ]
  },
  {
   "cell_type": "code",
   "execution_count": 29,
   "id": "3d79297e",
   "metadata": {},
   "outputs": [
    {
     "name": "stderr",
     "output_type": "stream",
     "text": [
      "C:\\Users\\camil\\anaconda3\\lib\\site-packages\\sklearn\\metrics\\_classification.py:1248: UndefinedMetricWarning: Precision is ill-defined and being set to 0.0 due to no predicted samples. Use `zero_division` parameter to control this behavior.\n",
      "  _warn_prf(average, modifier, msg_start, len(result))\n"
     ]
    },
    {
     "data": {
      "text/plain": [
       "(0.851063829787234, 0.0)"
      ]
     },
     "execution_count": 29,
     "metadata": {},
     "output_type": "execute_result"
    }
   ],
   "source": [
    "precision_positiva = metrics.precision_score(y_test, preds_RF, pos_label=1)\n",
    "precision_negativa = metrics.precision_score(y_test, preds_RF, pos_label=0)\n",
    "precision_positiva, precision_negativa "
   ]
  },
  {
   "cell_type": "code",
   "execution_count": 30,
   "id": "0fb4eb81",
   "metadata": {},
   "outputs": [
    {
     "data": {
      "text/plain": [
       "(1.0, 0.0)"
      ]
     },
     "execution_count": 30,
     "metadata": {},
     "output_type": "execute_result"
    }
   ],
   "source": [
    "recall_sensibilidad = metrics.recall_score(y_test, preds_RF, pos_label=1)\n",
    "recall_especificidad= metrics.recall_score(y_test, preds_RF, pos_label=0)\n",
    "recall_sensibilidad, recall_especificidad"
   ]
  },
  {
   "cell_type": "code",
   "execution_count": 31,
   "id": "b37cea65",
   "metadata": {},
   "outputs": [
    {
     "data": {
      "text/plain": [
       "(0.9195402298850576, 0.0)"
      ]
     },
     "execution_count": 31,
     "metadata": {},
     "output_type": "execute_result"
    }
   ],
   "source": [
    "f1_positivo = metrics.f1_score(y_test, preds_RF, pos_label=1)\n",
    "f1_negativo = metrics.f1_score(y_test, preds_RF, pos_label=0)\n",
    "f1_positivo, f1_negativo "
   ]
  },
  {
   "cell_type": "code",
   "execution_count": 32,
   "id": "0eb78f21",
   "metadata": {},
   "outputs": [
    {
     "name": "stdout",
     "output_type": "stream",
     "text": [
      "              precision    recall  f1-score   support\n",
      "\n",
      "           0       0.00      0.00      0.00         7\n",
      "           1       0.85      1.00      0.92        40\n",
      "\n",
      "    accuracy                           0.85        47\n",
      "   macro avg       0.43      0.50      0.46        47\n",
      "weighted avg       0.72      0.85      0.78        47\n",
      "\n"
     ]
    },
    {
     "name": "stderr",
     "output_type": "stream",
     "text": [
      "C:\\Users\\camil\\anaconda3\\lib\\site-packages\\sklearn\\metrics\\_classification.py:1248: UndefinedMetricWarning: Precision and F-score are ill-defined and being set to 0.0 in labels with no predicted samples. Use `zero_division` parameter to control this behavior.\n",
      "  _warn_prf(average, modifier, msg_start, len(result))\n",
      "C:\\Users\\camil\\anaconda3\\lib\\site-packages\\sklearn\\metrics\\_classification.py:1248: UndefinedMetricWarning: Precision and F-score are ill-defined and being set to 0.0 in labels with no predicted samples. Use `zero_division` parameter to control this behavior.\n",
      "  _warn_prf(average, modifier, msg_start, len(result))\n",
      "C:\\Users\\camil\\anaconda3\\lib\\site-packages\\sklearn\\metrics\\_classification.py:1248: UndefinedMetricWarning: Precision and F-score are ill-defined and being set to 0.0 in labels with no predicted samples. Use `zero_division` parameter to control this behavior.\n",
      "  _warn_prf(average, modifier, msg_start, len(result))\n"
     ]
    }
   ],
   "source": [
    "print(metrics.classification_report(y_test, preds_RF))"
   ]
  },
  {
   "cell_type": "code",
   "execution_count": 33,
   "id": "f3f50f07",
   "metadata": {},
   "outputs": [
    {
     "data": {
      "text/plain": [
       "<sklearn.metrics._plot.roc_curve.RocCurveDisplay at 0x254b901e970>"
      ]
     },
     "execution_count": 33,
     "metadata": {},
     "output_type": "execute_result"
    },
    {
     "data": {
      "image/png": "[encoded data removed]",
      "text/plain": [
       "<Figure size 1080x360 with 1 Axes>"
      ]
     },
     "metadata": {},
     "output_type": "display_data"
    }
   ],
   "source": [
    "metrics.plot_roc_curve(modelo_RF,X_test,y_test)"
   ]
  },
  {
   "cell_type": "markdown",
   "id": "cd96c2ea",
   "metadata": {},
   "source": [
    "# Conclusión\n",
    "Obtuvimos una precisión del 85% con el KNN, quizá, debido a la cantidad de Outlyiers que hay entre cada grupo seleccionado. Pensamos, que puede resultar un mejor entrenamiento si se utiliza la tabla de datos con las transacciónes que son únicamente intereses agregados a cada cuenta, ya que se diferencían un poco más cada grupo en esta sección."
   ]
  },
  {
   "cell_type": "markdown",
   "id": "75a52608",
   "metadata": {},
   "source": [
    "# Predicción de categoría [A,B] para categoría C:\n",
    "Ahora que se tienen los modelos entrenados con los datos de las categorías A (clientes que pagaron su préstamo con éxito) y B (clientes que no terminaron de pagar su préstamo), se elige el modelo más exacto y se usa como set de testeo la tabla que incluye los datos de los clientes de la categoría C (clientes que van al corriente con el pago del préstamo) para predecir si estos se convertirán en parte de la categoría A o B en un futuro."
   ]
  },
  {
   "cell_type": "code",
   "execution_count": 34,
   "id": "c32ef2ca",
   "metadata": {},
   "outputs": [],
   "source": [
    "# Actualizamos al X_test igual a la tabla C\n",
    "X_test = C.loc[:,~C.columns.isin(['status','status_number'])]\n",
    "# Se recrea el testeo para predecir los valores de X_test\n",
    "preds_KNN = modelo_KNN.predict(X_test)"
   ]
  },
  {
   "cell_type": "code",
   "execution_count": 35,
   "id": "60cf297e",
   "metadata": {},
   "outputs": [
    {
     "name": "stdout",
     "output_type": "stream",
     "text": [
      "['Unos (Categoría A)', 395]\n",
      "['Ceros (Categoría B): ', 8]\n"
     ]
    }
   ],
   "source": [
    "# Se muestra el conteo de cada categoría predicha\n",
    "print(['Unos (Categoría A)', np.count_nonzero(preds_KNN==1)])\n",
    "print(['Ceros (Categoría B): ', np.count_nonzero(preds_KNN==0)])"
   ]
  },
  {
   "cell_type": "code",
   "execution_count": 36,
   "id": "30aebdc7",
   "metadata": {},
   "outputs": [],
   "source": [
    "def C_zeros(arr,C):\n",
    "    for i,x in enumerate(arr):\n",
    "        if x == 1:\n",
    "            C = C.drop(i)\n",
    "    return C"
   ]
  },
  {
   "cell_type": "code",
   "execution_count": 37,
   "id": "a31ac0c6",
   "metadata": {},
   "outputs": [],
   "source": [
    "def C_ones(arr,C):\n",
    "    for i,x in enumerate(arr):\n",
    "        if x == 0:\n",
    "            C = C.drop(i)\n",
    "    return C"
   ]
  },
  {
   "cell_type": "code",
   "execution_count": 38,
   "id": "8c7abee6",
   "metadata": {},
   "outputs": [],
   "source": [
    "# AUX\n",
    "C = full_info[full_info['status'] == 'C']"
   ]
  },
  {
   "cell_type": "code",
   "execution_count": 39,
   "id": "0e268e29",
   "metadata": {},
   "outputs": [],
   "source": [
    "C = C.reset_index()\n",
    "AC = C_ones(preds_KNN,C)\n",
    "BC = C_zeros(preds_KNN,C)"
   ]
  },
  {
   "cell_type": "code",
   "execution_count": 40,
   "id": "3310eb57",
   "metadata": {},
   "outputs": [
    {
     "data": {
      "text/plain": [
       "<matplotlib.legend.Legend at 0x254bfa50460>"
      ]
     },
     "execution_count": 40,
     "metadata": {},
     "output_type": "execute_result"
    },
    {
     "data": {
      "image/png": "[encoded data removed]",
      "text/plain": [
       "<Figure size 1080x360 with 1 Axes>"
      ]
     },
     "metadata": {},
     "output_type": "display_data"
    }
   ],
   "source": [
    "sns.set(rc = {'figure.figsize':(15,5)})\n",
    "sns.scatterplot(data = AC, x = \"trans_amount\", y = \"balance\", color = 'b')\n",
    "sns.scatterplot(data = BC, x = \"trans_amount\", y = \"balance\", color = 'r')\n",
    "\n",
    "plt.legend(labels=[\"C futuro A\",\"C futuro B\"])"
   ]
  },
  {
   "cell_type": "code",
   "execution_count": null,
   "id": "a4cc947d",
   "metadata": {},
   "outputs": [],
   "source": []
  }
 ],
 "metadata": {
  "kernelspec": {
   "display_name": "Python 3 (ipykernel)",
   "language": "python",
   "name": "python3"
  },
  "language_info": {
   "codemirror_mode": {
    "name": "ipython",
    "version": 3
   },
   "file_extension": ".py",
   "mimetype": "text/x-python",
   "name": "python",
   "nbconvert_exporter": "python",
   "pygments_lexer": "ipython3",
   "version": "3.9.7"
  }
 },
 "nbformat": 4,
 "nbformat_minor": 5
}
