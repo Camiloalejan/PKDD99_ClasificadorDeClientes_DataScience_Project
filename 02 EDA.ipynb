{
 "cells": [
  {
   "cell_type": "markdown",
   "id": "0f4215c8",
   "metadata": {
    "id": "0f4215c8"
   },
   "source": [
    "\n",
    "# DataSet Czech Bank: PKDD99\n",
    "\n",
    "\n",
    "\n",
    "### Transacciones bancarias checas anónimas reales, información de la cuenta y registros de préstamos publicados para PKDD'99 Discovery Challenge.\n",
    "\n",
    "#### El conjunto de datos berka, del PKDD Discovery Challenge de 1999 proporciona información sobre los clientes, las cuentas, las transacciones de un banco Checo.\n",
    "\n",
    "\n",
    "#### Abstract: \n",
    "        El data set se basa en la recopilacion de la informacion de las transacciones bancarias anónimas reeales de un banco\n",
    "        Checo. Está formado por 8 tablas: Account, Clients, Disposition, Orders, Transactions, Loan, Credit Cards y \n",
    "        Demographic data. \n",
    "        El data set cuenta con un total de 5369 clientes, 4500 cuentas, 1.056.320 de transacciones, 682 prestamos otorgados\n",
    "        y la situacion en la que cada uno se encuentra. Cuenta con informacion demografica y de las tarjetas de credito para\n",
    "        poder complementar la informacion.\n",
    "        \n",
    "        La razón para analizar este Dataset se debe a que se trata de un base de datos muy completa, qué, a pesar de ser \n",
    "        de 1999,describe la situación financiera de los clientes de un banco de la misma manera como se encuentran \n",
    "        registrados hoy en día. De esta manera, no solo los bancos y sus empleados son los que se beneficiarían de este\n",
    "        análisis, sino también nosotros mismos, ya que enriquece nuestra experiencia como Data Scientist al ser una base tan\n",
    "        grande y bien estructurada, y puede ayudar a muchos otros Data Scientist que sigan el mismo camino.\n",
    "        \n",
    "#### Hipótesis / Preguntas: \n",
    "        - Se puede plantear la creación de perfiles de cliente a partir de sus datos personales (su sexo y donde viven).\n",
    "        - Se cree que los creditos de mayor duracion son los que mayor morosidad tienen.\n",
    "        - Los creditos de mayor monto, son los que mayor morosidad.\n",
    "        \n",
    "#### Respuestas:\n",
    "\n",
    "        AL RELACIONAR LAS VARIABLES DURACION DE PRESTAMO Y STATUS CREDITICIO, SE OBSERVA QUE LOS PRESTAMOS DE STATUS B, \n",
    "        TIENEN UNA MEDIA DE MONTO MAS ALTO QUE EL RESTO DE LOS STATUS EN AQUELLOS CREDITOS DE 24 Y 36 MESES. EN EL CASO DE \n",
    "        LOS 36 MESES EL STATUS QUE SIGUE AL B CON MEDIA MAS ALTA ES EL D.\n",
    "\n",
    "        A MEDIDA QUE LA DURACION SIGUE AUMENTANDO, SE OBSERVA QUE LOS PRESTAMOS CON STATUS D TIENE UNA MEDIA MAYOR QUE EL\n",
    "        RESTO.\n",
    "\n",
    "        LUEGO DE REALIZAR ESTE PRIMER ANALISIS DE LOS DATOS, PODRIAMOS AFIRMAR QUE LOS CREDITOS QUE CAEN EN MORA SON \n",
    "        AQUELLOS DE MAYOR MONTOPROMEDIO Y DURACION.\n",
    "        \n",
    "        SE PUEDE ASEVERAR QUÉ, LOS DATOS PERSONALES DE LAS CUENTAS DE LOS CLIENTES SIRVEN PARA CATEGORIZARLOS Y AGREGAR A\n",
    "        CADA CATEGORÍA A FUTUROS Y POTENCIALES CLIENTES QUE EL BANCO TENGA.\n",
    "\n",
    "#### Observaciones:\n",
    "        Previo a comenzar a trabajar con cada una de las tablas se repite la informacion detallada en los parrafos\n",
    "        descriptivos, para agilizar la visualizacion de la informacion relativa a esa tabla. (Lo ideal seria hacer\n",
    "        un indice). \n",
    "        Cada seccion de tabla se organizo: \n",
    "        1. Importación de la tabla con los datos limpios\n",
    "        2. Analisis de tabla"
   ]
  },
  {
   "cell_type": "code",
   "execution_count": 1,
   "id": "affc77d9",
   "metadata": {
    "id": "affc77d9"
   },
   "outputs": [],
   "source": [
    "import pandas as pd\n",
    "import numpy as np\n",
    "import datetime\n",
    "import time\n",
    "import matplotlib.pyplot as plt\n",
    "import seaborn as sns\n",
    "import statistics"
   ]
  },
  {
   "cell_type": "markdown",
   "id": "c9436be5",
   "metadata": {
    "id": "c9436be5"
   },
   "source": [
    "## Tabla ACCOUNTS\n",
    "      ACCOUNTS,Cuentas: cada registro describe las caracteristicas de una cuenta. \n",
    "         Columna \"account_id\": Identificación de la cuenta - 4500\n",
    "         Columna \"district_id\": Identificación de distrito - 77\n",
    "         Columna \"frequency\": Frecuencia de emisión de estados de cuenta - 3\n",
    "         Columna \"date\": Fecha de creación de la cuenta - 1535"
   ]
  },
  {
   "cell_type": "code",
   "execution_count": 2,
   "id": "13261c4b",
   "metadata": {
    "colab": {
     "base_uri": "https://localhost:8080/",
     "height": 328
    },
    "executionInfo": {
     "elapsed": 165,
     "status": "error",
     "timestamp": 1662502620466,
     "user": {
      "displayName": "Camilo Alejandro Hernández Salazar",
      "userId": "10950582753263929840"
     },
     "user_tz": 300
    },
    "id": "13261c4b",
    "outputId": "229fe231-fe46-46a1-f2e5-ea75257d3d1d"
   },
   "outputs": [
    {
     "data": {
      "text/html": [
       "<div>\n",
       "<style scoped>\n",
       "    .dataframe tbody tr th:only-of-type {\n",
       "        vertical-align: middle;\n",
       "    }\n",
       "\n",
       "    .dataframe tbody tr th {\n",
       "        vertical-align: top;\n",
       "    }\n",
       "\n",
       "    .dataframe thead th {\n",
       "        text-align: right;\n",
       "    }\n",
       "</style>\n",
       "<table border=\"1\" class=\"dataframe\">\n",
       "  <thead>\n",
       "    <tr style=\"text-align: right;\">\n",
       "      <th></th>\n",
       "      <th>account_id</th>\n",
       "      <th>district_id</th>\n",
       "      <th>frequency</th>\n",
       "      <th>date</th>\n",
       "    </tr>\n",
       "  </thead>\n",
       "  <tbody>\n",
       "    <tr>\n",
       "      <th>0</th>\n",
       "      <td>576</td>\n",
       "      <td>55</td>\n",
       "      <td>MONTHLY_ISSUANCE_(MI)</td>\n",
       "      <td>01/01/1993</td>\n",
       "    </tr>\n",
       "    <tr>\n",
       "      <th>1</th>\n",
       "      <td>3818</td>\n",
       "      <td>74</td>\n",
       "      <td>MONTHLY_ISSUANCE_(MI)</td>\n",
       "      <td>01/01/1993</td>\n",
       "    </tr>\n",
       "    <tr>\n",
       "      <th>2</th>\n",
       "      <td>704</td>\n",
       "      <td>55</td>\n",
       "      <td>MONTHLY_ISSUANCE_(MI)</td>\n",
       "      <td>01/01/1993</td>\n",
       "    </tr>\n",
       "    <tr>\n",
       "      <th>3</th>\n",
       "      <td>2378</td>\n",
       "      <td>16</td>\n",
       "      <td>MONTHLY_ISSUANCE_(MI)</td>\n",
       "      <td>01/01/1993</td>\n",
       "    </tr>\n",
       "    <tr>\n",
       "      <th>4</th>\n",
       "      <td>2632</td>\n",
       "      <td>24</td>\n",
       "      <td>MONTHLY_ISSUANCE_(MI)</td>\n",
       "      <td>02/01/1993</td>\n",
       "    </tr>\n",
       "  </tbody>\n",
       "</table>\n",
       "</div>"
      ],
      "text/plain": [
       "   account_id  district_id               frequency        date\n",
       "0         576           55   MONTHLY_ISSUANCE_(MI)  01/01/1993\n",
       "1        3818           74   MONTHLY_ISSUANCE_(MI)  01/01/1993\n",
       "2         704           55   MONTHLY_ISSUANCE_(MI)  01/01/1993\n",
       "3        2378           16   MONTHLY_ISSUANCE_(MI)  01/01/1993\n",
       "4        2632           24   MONTHLY_ISSUANCE_(MI)  02/01/1993"
      ]
     },
     "execution_count": 2,
     "metadata": {},
     "output_type": "execute_result"
    }
   ],
   "source": [
    "df_acc = pd.read_csv('cleaned_account.csv', sep = ',')\n",
    "df_acc.head()"
   ]
  },
  {
   "cell_type": "code",
   "execution_count": 3,
   "id": "818d9dcf",
   "metadata": {
    "colab": {
     "base_uri": "https://localhost:8080/",
     "height": 182
    },
    "executionInfo": {
     "elapsed": 122,
     "status": "error",
     "timestamp": 1661289895773,
     "user": {
      "displayName": "Camilo Alejandro Hernández Salazar",
      "userId": "10950582753263929840"
     },
     "user_tz": 300
    },
    "id": "818d9dcf",
    "outputId": "04ca1459-cf00-4bed-dbf6-363f39707f0f"
   },
   "outputs": [
    {
     "name": "stdout",
     "output_type": "stream",
     "text": [
      "<class 'pandas.core.frame.DataFrame'>\n",
      "RangeIndex: 4500 entries, 0 to 4499\n",
      "Data columns (total 4 columns):\n",
      " #   Column       Non-Null Count  Dtype \n",
      "---  ------       --------------  ----- \n",
      " 0   account_id   4500 non-null   int64 \n",
      " 1   district_id  4500 non-null   int64 \n",
      " 2   frequency    4500 non-null   object\n",
      " 3   date         4500 non-null   object\n",
      "dtypes: int64(2), object(2)\n",
      "memory usage: 140.8+ KB\n"
     ]
    }
   ],
   "source": [
    "df_acc.info()"
   ]
  },
  {
   "cell_type": "code",
   "execution_count": 4,
   "id": "4167d2b8",
   "metadata": {},
   "outputs": [
    {
     "data": {
      "text/plain": [
       "account_id     4500\n",
       "district_id      77\n",
       "frequency         3\n",
       "date           1535\n",
       "dtype: int64"
      ]
     },
     "execution_count": 4,
     "metadata": {},
     "output_type": "execute_result"
    }
   ],
   "source": [
    "df_acc.nunique()"
   ]
  },
  {
   "cell_type": "code",
   "execution_count": 5,
   "id": "65e21eb1",
   "metadata": {},
   "outputs": [
    {
     "data": {
      "text/plain": [
       "account_id     0\n",
       "district_id    0\n",
       "frequency      0\n",
       "date           0\n",
       "dtype: int64"
      ]
     },
     "execution_count": 5,
     "metadata": {},
     "output_type": "execute_result"
    }
   ],
   "source": [
    "df_acc.isnull().sum()"
   ]
  },
  {
   "cell_type": "code",
   "execution_count": 6,
   "id": "4b69081a",
   "metadata": {
    "id": "4b69081a",
    "outputId": "8d81d0bf-9963-4d86-b7d0-d56b5b6aaccf"
   },
   "outputs": [
    {
     "data": {
      "text/plain": [
       "Text(0.5, 0, 'Numero de distrito')"
      ]
     },
     "execution_count": 6,
     "metadata": {},
     "output_type": "execute_result"
    },
    {
     "data": {
      "image/png": "[encoded data removed]",
      "text/plain": [
       "<Figure size 1008x288 with 1 Axes>"
      ]
     },
     "metadata": {
      "needs_background": "light"
     },
     "output_type": "display_data"
    }
   ],
   "source": [
    "# Grafica barras, distribucion de cuentas por distrito\n",
    "n_acc_by_distr=df_acc.district_id.value_counts()\n",
    "\n",
    "fig, ax = plt.subplots(figsize=(14,4))\n",
    "ax.bar(n_acc_by_distr.index, n_acc_by_distr)\n",
    "ax.set_title('Distribucion de las cuentas por distrito')\n",
    "ax.set_ylabel('Cantidad de cuentas')\n",
    "ax.set_xlabel('Numero de distrito')\n",
    "\n",
    "# La distribucion de cuentas se encuentra totalmente desproporcionada, estando la mayoria de ellas en praga. \n",
    "# Agragar grafico de porcentajes o tabla "
   ]
  },
  {
   "cell_type": "markdown",
   "id": "16a47c10",
   "metadata": {
    "id": "16a47c10"
   },
   "source": [
    "## Tabla CLIENTS\n",
    "    CLIENTS, Clientes: cada registro describe las caracteristicas de un cliente.\n",
    "        Columna \"client_id\": Identificación de la cuenta - 5369 unicos\n",
    "        Columna \"birth_number\": Fecha de nacimiento - 4738 unicos\n",
    "        Columna \"district_id\": Frecuencia de emisión de estados de cuenta - 77 unicos\n",
    "        Columna \"sex\": Genero - 2"
   ]
  },
  {
   "cell_type": "code",
   "execution_count": 7,
   "id": "8c018de4",
   "metadata": {
    "id": "8c018de4",
    "outputId": "a96a3731-8754-4ad9-d189-047eee5ef958"
   },
   "outputs": [
    {
     "data": {
      "text/html": [
       "<div>\n",
       "<style scoped>\n",
       "    .dataframe tbody tr th:only-of-type {\n",
       "        vertical-align: middle;\n",
       "    }\n",
       "\n",
       "    .dataframe tbody tr th {\n",
       "        vertical-align: top;\n",
       "    }\n",
       "\n",
       "    .dataframe thead th {\n",
       "        text-align: right;\n",
       "    }\n",
       "</style>\n",
       "<table border=\"1\" class=\"dataframe\">\n",
       "  <thead>\n",
       "    <tr style=\"text-align: right;\">\n",
       "      <th></th>\n",
       "      <th>client_id</th>\n",
       "      <th>district_id</th>\n",
       "      <th>sex</th>\n",
       "      <th>age</th>\n",
       "      <th>age_group</th>\n",
       "    </tr>\n",
       "  </thead>\n",
       "  <tbody>\n",
       "    <tr>\n",
       "      <th>0</th>\n",
       "      <td>1</td>\n",
       "      <td>18</td>\n",
       "      <td>F</td>\n",
       "      <td>28</td>\n",
       "      <td>20</td>\n",
       "    </tr>\n",
       "    <tr>\n",
       "      <th>1</th>\n",
       "      <td>2</td>\n",
       "      <td>1</td>\n",
       "      <td>M</td>\n",
       "      <td>53</td>\n",
       "      <td>50</td>\n",
       "    </tr>\n",
       "    <tr>\n",
       "      <th>2</th>\n",
       "      <td>3</td>\n",
       "      <td>1</td>\n",
       "      <td>F</td>\n",
       "      <td>58</td>\n",
       "      <td>50</td>\n",
       "    </tr>\n",
       "    <tr>\n",
       "      <th>3</th>\n",
       "      <td>4</td>\n",
       "      <td>5</td>\n",
       "      <td>M</td>\n",
       "      <td>43</td>\n",
       "      <td>40</td>\n",
       "    </tr>\n",
       "    <tr>\n",
       "      <th>4</th>\n",
       "      <td>5</td>\n",
       "      <td>5</td>\n",
       "      <td>F</td>\n",
       "      <td>38</td>\n",
       "      <td>30</td>\n",
       "    </tr>\n",
       "  </tbody>\n",
       "</table>\n",
       "</div>"
      ],
      "text/plain": [
       "   client_id  district_id sex  age  age_group\n",
       "0          1           18   F   28         20\n",
       "1          2            1   M   53         50\n",
       "2          3            1   F   58         50\n",
       "3          4            5   M   43         40\n",
       "4          5            5   F   38         30"
      ]
     },
     "execution_count": 7,
     "metadata": {},
     "output_type": "execute_result"
    }
   ],
   "source": [
    "df_client = pd.read_csv('cleaned_client.csv', sep = ',')\n",
    "df_client.head()"
   ]
  },
  {
   "cell_type": "code",
   "execution_count": 8,
   "id": "4c295182",
   "metadata": {
    "id": "4c295182",
    "outputId": "2d11b60a-eaa4-4c70-fd6d-1297d0e1f204"
   },
   "outputs": [
    {
     "name": "stdout",
     "output_type": "stream",
     "text": [
      "<class 'pandas.core.frame.DataFrame'>\n",
      "RangeIndex: 5369 entries, 0 to 5368\n",
      "Data columns (total 5 columns):\n",
      " #   Column       Non-Null Count  Dtype \n",
      "---  ------       --------------  ----- \n",
      " 0   client_id    5369 non-null   int64 \n",
      " 1   district_id  5369 non-null   int64 \n",
      " 2   sex          5369 non-null   object\n",
      " 3   age          5369 non-null   int64 \n",
      " 4   age_group    5369 non-null   int64 \n",
      "dtypes: int64(4), object(1)\n",
      "memory usage: 209.9+ KB\n"
     ]
    }
   ],
   "source": [
    "df_client.info()"
   ]
  },
  {
   "cell_type": "code",
   "execution_count": 9,
   "id": "c4915b47",
   "metadata": {},
   "outputs": [
    {
     "data": {
      "text/plain": [
       "client_id      5369\n",
       "district_id      77\n",
       "sex               2\n",
       "age              77\n",
       "age_group         8\n",
       "dtype: int64"
      ]
     },
     "execution_count": 9,
     "metadata": {},
     "output_type": "execute_result"
    }
   ],
   "source": [
    "df_client.nunique()"
   ]
  },
  {
   "cell_type": "code",
   "execution_count": 10,
   "id": "cc1f50b9",
   "metadata": {},
   "outputs": [
    {
     "data": {
      "text/plain": [
       "client_id      0\n",
       "district_id    0\n",
       "sex            0\n",
       "age            0\n",
       "age_group      0\n",
       "dtype: int64"
      ]
     },
     "execution_count": 10,
     "metadata": {},
     "output_type": "execute_result"
    }
   ],
   "source": [
    "df_client.isnull().sum()"
   ]
  },
  {
   "cell_type": "code",
   "execution_count": 11,
   "id": "066efe4f",
   "metadata": {
    "id": "066efe4f",
    "outputId": "4c7ebadb-9b7b-494c-b365-5bbb278b3fcf"
   },
   "outputs": [
    {
     "data": {
      "text/plain": [
       "Text(0.5, 0, 'Sexo')"
      ]
     },
     "execution_count": 11,
     "metadata": {},
     "output_type": "execute_result"
    },
    {
     "data": {
      "image/png": "[encoded data removed]",
      "text/plain": [
       "<Figure size 720x432 with 1 Axes>"
      ]
     },
     "metadata": {},
     "output_type": "display_data"
    },
    {
     "data": {
      "image/png": "[encoded data removed]",
      "text/plain": [
       "<Figure size 720x432 with 1 Axes>"
      ]
     },
     "metadata": {
      "needs_background": "light"
     },
     "output_type": "display_data"
    }
   ],
   "source": [
    "# Distribucion de la cuentas por genero \n",
    "grup_by_sex = df_client.groupby([\"sex\"]).count().reset_index()\n",
    "\n",
    "fig,ax = plt.subplots(figsize =(10, 6))\n",
    "ax.pie(grup_by_sex.client_id, labels = grup_by_sex.sex,autopct='%1.1f%%')\n",
    "ax.set_title('Distribucion por porcentual de clientes')\n",
    "\n",
    "fig2, ax2 = plt.subplots(figsize = (10,6))\n",
    "ax2.bar(grup_by_sex.sex[grup_by_sex[\"sex\"] == \"M\"], grup_by_sex.client_id, color = \"b\")\n",
    "ax2.bar(grup_by_sex.sex[grup_by_sex[\"sex\"] == \"F\"], grup_by_sex.client_id, color = \"r\")\n",
    "ax2.set_title('Cantidad de clientes de cada sexo')\n",
    "ax2.set_ylabel('Cantidad de cuentas')\n",
    "ax2.set_xlabel('Sexo')\n",
    "\n",
    "# La distribucion de cuentas entre generos no parece muy diferente"
   ]
  },
  {
   "cell_type": "markdown",
   "id": "2da1f566",
   "metadata": {
    "id": "2da1f566"
   },
   "source": [
    "## Tabla DISPOSITON\n",
    "    DISPOSITON (DISP), Disposición (Disp): cada registro relaciona un cliente con una sola cuenta, es decir, esta relación\n",
    "    describe los derechos de los clientes para operar cuentas.\n",
    "       Columna \"disp_id\": Identificación de registro - 5369 unicos\n",
    "       Columna \"client_id\": Identificación de cliente - 5369 unicos\n",
    "       Columna \"account_id\": Identificador de cuenta - 4500 unicos\n",
    "       Columna \"type\": Tipo de disposicion, Dueno / Usuario - 2 unicos"
   ]
  },
  {
   "cell_type": "code",
   "execution_count": 12,
   "id": "3bdbd84c",
   "metadata": {
    "id": "3bdbd84c",
    "outputId": "03be5c6f-e0e2-40bc-fe73-8f8981b0d675",
    "scrolled": true
   },
   "outputs": [
    {
     "data": {
      "text/html": [
       "<div>\n",
       "<style scoped>\n",
       "    .dataframe tbody tr th:only-of-type {\n",
       "        vertical-align: middle;\n",
       "    }\n",
       "\n",
       "    .dataframe tbody tr th {\n",
       "        vertical-align: top;\n",
       "    }\n",
       "\n",
       "    .dataframe thead th {\n",
       "        text-align: right;\n",
       "    }\n",
       "</style>\n",
       "<table border=\"1\" class=\"dataframe\">\n",
       "  <thead>\n",
       "    <tr style=\"text-align: right;\">\n",
       "      <th></th>\n",
       "      <th>disp_id</th>\n",
       "      <th>client_id</th>\n",
       "      <th>account_id</th>\n",
       "      <th>type</th>\n",
       "    </tr>\n",
       "  </thead>\n",
       "  <tbody>\n",
       "    <tr>\n",
       "      <th>0</th>\n",
       "      <td>1</td>\n",
       "      <td>1</td>\n",
       "      <td>1</td>\n",
       "      <td>OWNER</td>\n",
       "    </tr>\n",
       "    <tr>\n",
       "      <th>1</th>\n",
       "      <td>2</td>\n",
       "      <td>2</td>\n",
       "      <td>2</td>\n",
       "      <td>OWNER</td>\n",
       "    </tr>\n",
       "    <tr>\n",
       "      <th>2</th>\n",
       "      <td>3</td>\n",
       "      <td>3</td>\n",
       "      <td>2</td>\n",
       "      <td>DISPONENT</td>\n",
       "    </tr>\n",
       "    <tr>\n",
       "      <th>3</th>\n",
       "      <td>4</td>\n",
       "      <td>4</td>\n",
       "      <td>3</td>\n",
       "      <td>OWNER</td>\n",
       "    </tr>\n",
       "    <tr>\n",
       "      <th>4</th>\n",
       "      <td>5</td>\n",
       "      <td>5</td>\n",
       "      <td>3</td>\n",
       "      <td>DISPONENT</td>\n",
       "    </tr>\n",
       "  </tbody>\n",
       "</table>\n",
       "</div>"
      ],
      "text/plain": [
       "   disp_id  client_id  account_id       type\n",
       "0        1          1           1      OWNER\n",
       "1        2          2           2      OWNER\n",
       "2        3          3           2  DISPONENT\n",
       "3        4          4           3      OWNER\n",
       "4        5          5           3  DISPONENT"
      ]
     },
     "execution_count": 12,
     "metadata": {},
     "output_type": "execute_result"
    }
   ],
   "source": [
    "df_disp = pd.read_csv('disp.csv', sep = ';')\n",
    "df_disp.head()"
   ]
  },
  {
   "cell_type": "code",
   "execution_count": 13,
   "id": "4831ac8a",
   "metadata": {
    "id": "4831ac8a",
    "outputId": "9873430e-5f9d-4775-e91f-c6f36585cfd4"
   },
   "outputs": [
    {
     "name": "stdout",
     "output_type": "stream",
     "text": [
      "<class 'pandas.core.frame.DataFrame'>\n",
      "RangeIndex: 5369 entries, 0 to 5368\n",
      "Data columns (total 4 columns):\n",
      " #   Column      Non-Null Count  Dtype \n",
      "---  ------      --------------  ----- \n",
      " 0   disp_id     5369 non-null   int64 \n",
      " 1   client_id   5369 non-null   int64 \n",
      " 2   account_id  5369 non-null   int64 \n",
      " 3   type        5369 non-null   object\n",
      "dtypes: int64(3), object(1)\n",
      "memory usage: 167.9+ KB\n"
     ]
    }
   ],
   "source": [
    "df_disp.info()"
   ]
  },
  {
   "cell_type": "code",
   "execution_count": 14,
   "id": "ffcb6881",
   "metadata": {},
   "outputs": [
    {
     "data": {
      "text/plain": [
       "disp_id       5369\n",
       "client_id     5369\n",
       "account_id    4500\n",
       "type             2\n",
       "dtype: int64"
      ]
     },
     "execution_count": 14,
     "metadata": {},
     "output_type": "execute_result"
    }
   ],
   "source": [
    "df_disp.nunique()"
   ]
  },
  {
   "cell_type": "code",
   "execution_count": 15,
   "id": "934c9f12",
   "metadata": {},
   "outputs": [
    {
     "data": {
      "text/plain": [
       "disp_id       0\n",
       "client_id     0\n",
       "account_id    0\n",
       "type          0\n",
       "dtype: int64"
      ]
     },
     "execution_count": 15,
     "metadata": {},
     "output_type": "execute_result"
    }
   ],
   "source": [
    "df_disp.isnull().sum()"
   ]
  },
  {
   "cell_type": "markdown",
   "id": "ed09c55a",
   "metadata": {
    "id": "ed09c55a"
   },
   "source": [
    "## Tabla  PERMANENT ORDERS\n",
    "    PERMANENT ORDERS, Debits only (ORDER), Pedidos Permanentes, solo debitos (PEDIDOS): cada registro describe las\n",
    "    caracteristicas de una orden de pago.\n",
    "        Columna \"order_id\": Identificación de registro - 6471 unicos\n",
    "        Columna \"account_id\": Identificacion de orden de cuenta emitida para - 3758 unicos\n",
    "        Columna \"bank_to\": Banco destinatario - 13 unicos\n",
    "        Columna \"account_to\": Cuenta del destinatario - 6646 unicos\n",
    "        Columna \"amount\": Importe del pedido - 4412 unicos\n",
    "        Columna \"k_symbol\": Caracterizacion del pago - 5. "
   ]
  },
  {
   "cell_type": "code",
   "execution_count": 16,
   "id": "a756cf80",
   "metadata": {
    "colab": {
     "base_uri": "https://localhost:8080/",
     "height": 206
    },
    "executionInfo": {
     "elapsed": 14,
     "status": "ok",
     "timestamp": 1661276698361,
     "user": {
      "displayName": "candela sanchez",
      "userId": "08004876436503716034"
     },
     "user_tz": 180
    },
    "id": "a756cf80",
    "outputId": "5776bb30-c712-476a-df8c-8e9b5fa51857"
   },
   "outputs": [
    {
     "data": {
      "text/html": [
       "<div>\n",
       "<style scoped>\n",
       "    .dataframe tbody tr th:only-of-type {\n",
       "        vertical-align: middle;\n",
       "    }\n",
       "\n",
       "    .dataframe tbody tr th {\n",
       "        vertical-align: top;\n",
       "    }\n",
       "\n",
       "    .dataframe thead th {\n",
       "        text-align: right;\n",
       "    }\n",
       "</style>\n",
       "<table border=\"1\" class=\"dataframe\">\n",
       "  <thead>\n",
       "    <tr style=\"text-align: right;\">\n",
       "      <th></th>\n",
       "      <th>order_id</th>\n",
       "      <th>account_id</th>\n",
       "      <th>bank_to</th>\n",
       "      <th>account_to</th>\n",
       "      <th>amount</th>\n",
       "      <th>k_symbol</th>\n",
       "    </tr>\n",
       "  </thead>\n",
       "  <tbody>\n",
       "    <tr>\n",
       "      <th>0</th>\n",
       "      <td>29401</td>\n",
       "      <td>1</td>\n",
       "      <td>YZ</td>\n",
       "      <td>87144583</td>\n",
       "      <td>2452.0</td>\n",
       "      <td>Household</td>\n",
       "    </tr>\n",
       "    <tr>\n",
       "      <th>1</th>\n",
       "      <td>29402</td>\n",
       "      <td>2</td>\n",
       "      <td>ST</td>\n",
       "      <td>89597016</td>\n",
       "      <td>3372.7</td>\n",
       "      <td>Loan payment</td>\n",
       "    </tr>\n",
       "    <tr>\n",
       "      <th>2</th>\n",
       "      <td>29403</td>\n",
       "      <td>2</td>\n",
       "      <td>QR</td>\n",
       "      <td>13943797</td>\n",
       "      <td>7266.0</td>\n",
       "      <td>Household</td>\n",
       "    </tr>\n",
       "    <tr>\n",
       "      <th>3</th>\n",
       "      <td>29404</td>\n",
       "      <td>3</td>\n",
       "      <td>WX</td>\n",
       "      <td>83084338</td>\n",
       "      <td>1135.0</td>\n",
       "      <td>Household</td>\n",
       "    </tr>\n",
       "    <tr>\n",
       "      <th>4</th>\n",
       "      <td>29405</td>\n",
       "      <td>3</td>\n",
       "      <td>CD</td>\n",
       "      <td>24485939</td>\n",
       "      <td>327.0</td>\n",
       "      <td>NaN</td>\n",
       "    </tr>\n",
       "  </tbody>\n",
       "</table>\n",
       "</div>"
      ],
      "text/plain": [
       "   order_id  account_id bank_to  account_to  amount      k_symbol\n",
       "0     29401           1      YZ    87144583  2452.0     Household\n",
       "1     29402           2      ST    89597016  3372.7  Loan payment\n",
       "2     29403           2      QR    13943797  7266.0     Household\n",
       "3     29404           3      WX    83084338  1135.0     Household\n",
       "4     29405           3      CD    24485939   327.0           NaN"
      ]
     },
     "execution_count": 16,
     "metadata": {},
     "output_type": "execute_result"
    }
   ],
   "source": [
    "df_order = pd.read_csv('cleaned_order.csv', sep = ',')\n",
    "df_order.head()"
   ]
  },
  {
   "cell_type": "code",
   "execution_count": 17,
   "id": "ce5417f4",
   "metadata": {
    "id": "ce5417f4",
    "outputId": "c497b8d6-fba9-4d37-c312-89f560eba901"
   },
   "outputs": [
    {
     "name": "stdout",
     "output_type": "stream",
     "text": [
      "<class 'pandas.core.frame.DataFrame'>\n",
      "RangeIndex: 6471 entries, 0 to 6470\n",
      "Data columns (total 6 columns):\n",
      " #   Column      Non-Null Count  Dtype  \n",
      "---  ------      --------------  -----  \n",
      " 0   order_id    6471 non-null   int64  \n",
      " 1   account_id  6471 non-null   int64  \n",
      " 2   bank_to     6471 non-null   object \n",
      " 3   account_to  6471 non-null   int64  \n",
      " 4   amount      6471 non-null   float64\n",
      " 5   k_symbol    5092 non-null   object \n",
      "dtypes: float64(1), int64(3), object(2)\n",
      "memory usage: 303.5+ KB\n"
     ]
    }
   ],
   "source": [
    "df_order.info()"
   ]
  },
  {
   "cell_type": "code",
   "execution_count": 18,
   "id": "bca2ac6e",
   "metadata": {},
   "outputs": [
    {
     "data": {
      "text/plain": [
       "order_id      6471\n",
       "account_id    3758\n",
       "bank_to         13\n",
       "account_to    6446\n",
       "amount        4412\n",
       "k_symbol         4\n",
       "dtype: int64"
      ]
     },
     "execution_count": 18,
     "metadata": {},
     "output_type": "execute_result"
    }
   ],
   "source": [
    "df_order.nunique()"
   ]
  },
  {
   "cell_type": "code",
   "execution_count": 19,
   "id": "7f7bf145",
   "metadata": {},
   "outputs": [
    {
     "data": {
      "text/plain": [
       "order_id         0\n",
       "account_id       0\n",
       "bank_to          0\n",
       "account_to       0\n",
       "amount           0\n",
       "k_symbol      1379\n",
       "dtype: int64"
      ]
     },
     "execution_count": 19,
     "metadata": {},
     "output_type": "execute_result"
    }
   ],
   "source": [
    "df_order.isnull().sum()"
   ]
  },
  {
   "cell_type": "code",
   "execution_count": 20,
   "id": "dc8188a5",
   "metadata": {
    "id": "dc8188a5",
    "outputId": "cb2511d7-fde3-4f0a-cc42-eed4e56b0aac",
    "scrolled": true
   },
   "outputs": [
    {
     "data": {
      "text/plain": [
       "Text(0.5, 0, 'Banco destinatario')"
      ]
     },
     "execution_count": 20,
     "metadata": {},
     "output_type": "execute_result"
    },
    {
     "data": {
      "image/png": "[encoded data removed]",
      "text/plain": [
       "<Figure size 1008x288 with 1 Axes>"
      ]
     },
     "metadata": {
      "needs_background": "light"
     },
     "output_type": "display_data"
    }
   ],
   "source": [
    "# Distribucion de los bancos destinatarios de ordenes\n",
    "group_bank_to = pd.DataFrame(df_order.groupby(['bank_to'])[\"account_to\"].count())\n",
    "\n",
    "fig, ax = plt.subplots(figsize=(14,4))\n",
    "ax.bar(group_bank_to[\"account_to\"].index, group_bank_to[\"account_to\"])\n",
    "ax.set_title('Cantidad de ordenes por banco destinatario')\n",
    "ax.set_ylabel('Cantidad de ordenes')\n",
    "ax.set_xlabel('Banco destinatario')\n",
    "\n",
    "# Se observa que la cantidad de operaciones por banco destinatario fue homogenea "
   ]
  },
  {
   "cell_type": "code",
   "execution_count": 21,
   "id": "08ef8099",
   "metadata": {
    "id": "08ef8099",
    "outputId": "96513251-bf54-42f8-e88e-236688f14ec7",
    "scrolled": false
   },
   "outputs": [
    {
     "data": {
      "text/plain": [
       "Text(0.5, 0, 'Monto de ordenes')"
      ]
     },
     "execution_count": 21,
     "metadata": {},
     "output_type": "execute_result"
    },
    {
     "data": {
      "image/png": "[encoded data removed]",
      "text/plain": [
       "<Figure size 864x360 with 1 Axes>"
      ]
     },
     "metadata": {
      "needs_background": "light"
     },
     "output_type": "display_data"
    }
   ],
   "source": [
    "fig, ax = plt.subplots(figsize=(12,5))\n",
    "sns.histplot(data=df_order, x=\"amount\", kde=True)\n",
    "ax.set_title('Distribucion de la cantidad de ordenes por monto')\n",
    "ax.set_ylabel('Numero de ordenes ')\n",
    "ax.set_xlabel('Monto de ordenes')\n",
    "\n",
    "# El grafico muestra que la mayoria de las ordenes se encuentran entre los 0 y los 4 mil dolares o pesos o lo qeu sea\n"
   ]
  },
  {
   "cell_type": "code",
   "execution_count": 22,
   "id": "e64cc082",
   "metadata": {
    "id": "e64cc082",
    "outputId": "ec74d01c-8d66-46ab-9b41-eff0b25fd4bd",
    "scrolled": true
   },
   "outputs": [
    {
     "data": {
      "text/plain": [
       "count     6471.000000\n",
       "mean      3280.635698\n",
       "std       2714.475335\n",
       "min          1.000000\n",
       "25%       1241.500000\n",
       "50%       2596.000000\n",
       "75%       4613.500000\n",
       "max      14882.000000\n",
       "Name: amount, dtype: float64"
      ]
     },
     "execution_count": 22,
     "metadata": {},
     "output_type": "execute_result"
    }
   ],
   "source": [
    "# Descripcion de los pagos\n",
    "df_order[\"amount\"].describe()"
   ]
  },
  {
   "cell_type": "code",
   "execution_count": 23,
   "id": "10b9c523",
   "metadata": {
    "id": "10b9c523",
    "outputId": "7552f9c8-a44f-411e-b40a-78d0c22a399c",
    "scrolled": false
   },
   "outputs": [
    {
     "data": {
      "text/plain": [
       "Text(0.5, 0, 'Banco destinatario')"
      ]
     },
     "execution_count": 23,
     "metadata": {},
     "output_type": "execute_result"
    },
    {
     "data": {
      "image/png": "[encoded data removed]",
      "text/plain": [
       "<Figure size 864x432 with 1 Axes>"
      ]
     },
     "metadata": {
      "needs_background": "light"
     },
     "output_type": "display_data"
    }
   ],
   "source": [
    "# Caracteristica de los montos de las ordenes a cada banco destinatario\n",
    "fig, ax = plt.subplots(figsize=(12,6))\n",
    "ax = sns.boxplot(x =\"bank_to\", y= \"amount\",data=df_order)\n",
    "ax.set_title('Caracteristicas de los montos de las ordenes de pago')\n",
    "ax.set_ylabel('Montos de las ordentes')\n",
    "ax.set_xlabel('Banco destinatario')"
   ]
  },
  {
   "cell_type": "markdown",
   "id": "1cd9db22",
   "metadata": {
    "id": "1cd9db22"
   },
   "source": [
    "## Tabla TRANSACTIONS\n",
    "     TRANSACTIONS (TRANS), Transacciones (Trans) cada registro describe una transacción de una cuenta. \n",
    "        Columna \"trans_id\": Identificación de transaccion - 1056320 unicos\n",
    "        Columna \"account_id\": Identificacion de la la cuenta con la que se realizo la transaccion - 4500 unicos\n",
    "        Columna \"date\": Fecha de la transaccion - 2191 unicos\n",
    "        Columna \"type\": +/- transaccion - 3 unicos\n",
    "        Columna \"operation\": Modo de trasaccion - 5 unicos\n",
    "        Columna \"amount\": Monto de la transaccion - 40400  \n",
    "        Columna \"balance\": Balance de la cuenta despues de la transaccion - 542739\n",
    "        Columna \"k_symbol\": Caracteristicas de la transaccion - 8\n",
    "        Columna \"bank\": Banco del socio - 13\n",
    "        Columna \"account\": Cuenta del socio -7665"
   ]
  },
  {
   "cell_type": "code",
   "execution_count": 24,
   "id": "8464fdf7",
   "metadata": {
    "id": "8464fdf7",
    "outputId": "aca5c318-a0bb-4d30-9603-dbe4ab8fa86b"
   },
   "outputs": [
    {
     "data": {
      "text/html": [
       "<div>\n",
       "<style scoped>\n",
       "    .dataframe tbody tr th:only-of-type {\n",
       "        vertical-align: middle;\n",
       "    }\n",
       "\n",
       "    .dataframe tbody tr th {\n",
       "        vertical-align: top;\n",
       "    }\n",
       "\n",
       "    .dataframe thead th {\n",
       "        text-align: right;\n",
       "    }\n",
       "</style>\n",
       "<table border=\"1\" class=\"dataframe\">\n",
       "  <thead>\n",
       "    <tr style=\"text-align: right;\">\n",
       "      <th></th>\n",
       "      <th>trans_id</th>\n",
       "      <th>account_id</th>\n",
       "      <th>date</th>\n",
       "      <th>type</th>\n",
       "      <th>operation</th>\n",
       "      <th>amount</th>\n",
       "      <th>balance</th>\n",
       "      <th>k_symbol</th>\n",
       "      <th>bank</th>\n",
       "      <th>account</th>\n",
       "    </tr>\n",
       "  </thead>\n",
       "  <tbody>\n",
       "    <tr>\n",
       "      <th>0</th>\n",
       "      <td>695247</td>\n",
       "      <td>2378</td>\n",
       "      <td>1993-01-01</td>\n",
       "      <td>Credit</td>\n",
       "      <td>Credit in cash</td>\n",
       "      <td>700.0</td>\n",
       "      <td>700.0</td>\n",
       "      <td>NaN</td>\n",
       "      <td>NaN</td>\n",
       "      <td>NaN</td>\n",
       "    </tr>\n",
       "    <tr>\n",
       "      <th>1</th>\n",
       "      <td>171812</td>\n",
       "      <td>576</td>\n",
       "      <td>1993-01-01</td>\n",
       "      <td>Credit</td>\n",
       "      <td>Credit in cash</td>\n",
       "      <td>900.0</td>\n",
       "      <td>900.0</td>\n",
       "      <td>NaN</td>\n",
       "      <td>NaN</td>\n",
       "      <td>NaN</td>\n",
       "    </tr>\n",
       "    <tr>\n",
       "      <th>2</th>\n",
       "      <td>207264</td>\n",
       "      <td>704</td>\n",
       "      <td>1993-01-01</td>\n",
       "      <td>Credit</td>\n",
       "      <td>Credit in cash</td>\n",
       "      <td>1000.0</td>\n",
       "      <td>1000.0</td>\n",
       "      <td>NaN</td>\n",
       "      <td>NaN</td>\n",
       "      <td>NaN</td>\n",
       "    </tr>\n",
       "    <tr>\n",
       "      <th>3</th>\n",
       "      <td>1117247</td>\n",
       "      <td>3818</td>\n",
       "      <td>1993-01-01</td>\n",
       "      <td>Credit</td>\n",
       "      <td>Credit in cash</td>\n",
       "      <td>600.0</td>\n",
       "      <td>600.0</td>\n",
       "      <td>NaN</td>\n",
       "      <td>NaN</td>\n",
       "      <td>NaN</td>\n",
       "    </tr>\n",
       "    <tr>\n",
       "      <th>4</th>\n",
       "      <td>579373</td>\n",
       "      <td>1972</td>\n",
       "      <td>1993-01-02</td>\n",
       "      <td>Credit</td>\n",
       "      <td>Credit in cash</td>\n",
       "      <td>400.0</td>\n",
       "      <td>400.0</td>\n",
       "      <td>NaN</td>\n",
       "      <td>NaN</td>\n",
       "      <td>NaN</td>\n",
       "    </tr>\n",
       "  </tbody>\n",
       "</table>\n",
       "</div>"
      ],
      "text/plain": [
       "   trans_id  account_id        date    type       operation  amount  balance  \\\n",
       "0    695247        2378  1993-01-01  Credit  Credit in cash   700.0    700.0   \n",
       "1    171812         576  1993-01-01  Credit  Credit in cash   900.0    900.0   \n",
       "2    207264         704  1993-01-01  Credit  Credit in cash  1000.0   1000.0   \n",
       "3   1117247        3818  1993-01-01  Credit  Credit in cash   600.0    600.0   \n",
       "4    579373        1972  1993-01-02  Credit  Credit in cash   400.0    400.0   \n",
       "\n",
       "  k_symbol bank  account  \n",
       "0      NaN  NaN      NaN  \n",
       "1      NaN  NaN      NaN  \n",
       "2      NaN  NaN      NaN  \n",
       "3      NaN  NaN      NaN  \n",
       "4      NaN  NaN      NaN  "
      ]
     },
     "execution_count": 24,
     "metadata": {},
     "output_type": "execute_result"
    }
   ],
   "source": [
    "df_trans = pd.read_csv('cleaned_trans.csv', sep = ',', low_memory = False)\n",
    "df_trans.head()"
   ]
  },
  {
   "cell_type": "code",
   "execution_count": 25,
   "id": "24715d03",
   "metadata": {},
   "outputs": [
    {
     "name": "stdout",
     "output_type": "stream",
     "text": [
      "<class 'pandas.core.frame.DataFrame'>\n",
      "RangeIndex: 1056320 entries, 0 to 1056319\n",
      "Data columns (total 10 columns):\n",
      " #   Column      Non-Null Count    Dtype  \n",
      "---  ------      --------------    -----  \n",
      " 0   trans_id    1056320 non-null  int64  \n",
      " 1   account_id  1056320 non-null  int64  \n",
      " 2   date        1056320 non-null  object \n",
      " 3   type        1039654 non-null  object \n",
      " 4   operation   873206 non-null   object \n",
      " 5   amount      1056320 non-null  float64\n",
      " 6   balance     1056320 non-null  float64\n",
      " 7   k_symbol    521006 non-null   object \n",
      " 8   bank        273508 non-null   object \n",
      " 9   account     295389 non-null   float64\n",
      "dtypes: float64(3), int64(2), object(5)\n",
      "memory usage: 80.6+ MB\n"
     ]
    }
   ],
   "source": [
    "df_trans.info()"
   ]
  },
  {
   "cell_type": "code",
   "execution_count": 26,
   "id": "a581dc4d",
   "metadata": {},
   "outputs": [
    {
     "data": {
      "text/plain": [
       "trans_id      1056320\n",
       "account_id       4500\n",
       "date             2191\n",
       "type                2\n",
       "operation           5\n",
       "amount          40400\n",
       "balance        542739\n",
       "k_symbol            7\n",
       "bank               13\n",
       "account          7665\n",
       "dtype: int64"
      ]
     },
     "execution_count": 26,
     "metadata": {},
     "output_type": "execute_result"
    }
   ],
   "source": [
    "df_trans.nunique()"
   ]
  },
  {
   "cell_type": "code",
   "execution_count": 27,
   "id": "3f5ec40d",
   "metadata": {},
   "outputs": [
    {
     "data": {
      "text/plain": [
       "trans_id           0\n",
       "account_id         0\n",
       "date               0\n",
       "type           16666\n",
       "operation     183114\n",
       "amount             0\n",
       "balance            0\n",
       "k_symbol      535314\n",
       "bank          782812\n",
       "account       760931\n",
       "dtype: int64"
      ]
     },
     "execution_count": 27,
     "metadata": {},
     "output_type": "execute_result"
    }
   ],
   "source": [
    "df_trans.isnull().sum()"
   ]
  },
  {
   "cell_type": "code",
   "execution_count": 28,
   "id": "1c8739b0",
   "metadata": {
    "id": "1c8739b0",
    "outputId": "12233df2-e100-4fdd-ce05-d36dce5dda6d"
   },
   "outputs": [
    {
     "data": {
      "text/html": [
       "<div>\n",
       "<style scoped>\n",
       "    .dataframe tbody tr th:only-of-type {\n",
       "        vertical-align: middle;\n",
       "    }\n",
       "\n",
       "    .dataframe tbody tr th {\n",
       "        vertical-align: top;\n",
       "    }\n",
       "\n",
       "    .dataframe thead th {\n",
       "        text-align: right;\n",
       "    }\n",
       "</style>\n",
       "<table border=\"1\" class=\"dataframe\">\n",
       "  <thead>\n",
       "    <tr style=\"text-align: right;\">\n",
       "      <th>type</th>\n",
       "      <th>Credit</th>\n",
       "      <th>Withdrawal</th>\n",
       "    </tr>\n",
       "    <tr>\n",
       "      <th>operation</th>\n",
       "      <th></th>\n",
       "      <th></th>\n",
       "    </tr>\n",
       "  </thead>\n",
       "  <tbody>\n",
       "    <tr>\n",
       "      <th>Collection from another bank</th>\n",
       "      <td>65226.0</td>\n",
       "      <td>NaN</td>\n",
       "    </tr>\n",
       "    <tr>\n",
       "      <th>Credit card withdrawal</th>\n",
       "      <td>NaN</td>\n",
       "      <td>8036.0</td>\n",
       "    </tr>\n",
       "    <tr>\n",
       "      <th>Credit in cash</th>\n",
       "      <td>156743.0</td>\n",
       "      <td>NaN</td>\n",
       "    </tr>\n",
       "    <tr>\n",
       "      <th>Remittance to another bank</th>\n",
       "      <td>NaN</td>\n",
       "      <td>208283.0</td>\n",
       "    </tr>\n",
       "    <tr>\n",
       "      <th>Withdrawal in Cash</th>\n",
       "      <td>NaN</td>\n",
       "      <td>418252.0</td>\n",
       "    </tr>\n",
       "  </tbody>\n",
       "</table>\n",
       "</div>"
      ],
      "text/plain": [
       "type                            Credit  Withdrawal\n",
       "operation                                         \n",
       "Collection from another bank   65226.0         NaN\n",
       "Credit card withdrawal             NaN      8036.0\n",
       "Credit in cash                156743.0         NaN\n",
       "Remittance to another bank         NaN    208283.0\n",
       "Withdrawal in Cash                 NaN    418252.0"
      ]
     },
     "execution_count": 28,
     "metadata": {},
     "output_type": "execute_result"
    }
   ],
   "source": [
    "df_trans.pivot_table(index=['operation'], columns='type',values = 'amount', aggfunc=\"count\")"
   ]
  },
  {
   "cell_type": "code",
   "execution_count": 29,
   "id": "a356641e",
   "metadata": {
    "id": "a356641e",
    "outputId": "49791754-ff4e-4b80-c33a-9c177f4296bc"
   },
   "outputs": [
    {
     "data": {
      "text/html": [
       "<div>\n",
       "<style scoped>\n",
       "    .dataframe tbody tr th:only-of-type {\n",
       "        vertical-align: middle;\n",
       "    }\n",
       "\n",
       "    .dataframe tbody tr th {\n",
       "        vertical-align: top;\n",
       "    }\n",
       "\n",
       "    .dataframe thead th {\n",
       "        text-align: right;\n",
       "    }\n",
       "</style>\n",
       "<table border=\"1\" class=\"dataframe\">\n",
       "  <thead>\n",
       "    <tr style=\"text-align: right;\">\n",
       "      <th></th>\n",
       "      <th>type</th>\n",
       "    </tr>\n",
       "    <tr>\n",
       "      <th>type</th>\n",
       "      <th></th>\n",
       "    </tr>\n",
       "  </thead>\n",
       "  <tbody>\n",
       "    <tr>\n",
       "      <th>Credit</th>\n",
       "      <td>405083</td>\n",
       "    </tr>\n",
       "    <tr>\n",
       "      <th>Withdrawal</th>\n",
       "      <td>634571</td>\n",
       "    </tr>\n",
       "  </tbody>\n",
       "</table>\n",
       "</div>"
      ],
      "text/plain": [
       "              type\n",
       "type              \n",
       "Credit      405083\n",
       "Withdrawal  634571"
      ]
     },
     "execution_count": 29,
     "metadata": {},
     "output_type": "execute_result"
    }
   ],
   "source": [
    "type_trans = pd.DataFrame(df_trans.groupby(['type'])['type'].count())\n",
    "type_trans"
   ]
  },
  {
   "cell_type": "code",
   "execution_count": 30,
   "id": "1ba70991",
   "metadata": {
    "id": "1ba70991",
    "outputId": "b4c2b27b-4697-436a-9bdd-1a566a473c3f"
   },
   "outputs": [
    {
     "data": {
      "text/plain": [
       "Text(0.5, 0, 'Tipo de transaccion')"
      ]
     },
     "execution_count": 30,
     "metadata": {},
     "output_type": "execute_result"
    },
    {
     "data": {
      "image/png": "[encoded data removed]",
      "text/plain": [
       "<Figure size 1008x288 with 1 Axes>"
      ]
     },
     "metadata": {
      "needs_background": "light"
     },
     "output_type": "display_data"
    }
   ],
   "source": [
    "# Distribucion del tipo de transaccion\n",
    "type_trans = pd.DataFrame(df_trans.groupby(['type'])['type'].count())\n",
    "\n",
    "fig, ax = plt.subplots(figsize=(14,4))\n",
    "ax.bar(type_trans[\"type\"].index, type_trans[\"type\"])\n",
    "ax.set_title('Cantidad de trasnsacciones por tipo')\n",
    "ax.set_ylabel('Cantidad de transacciones')\n",
    "ax.set_xlabel('Tipo de transaccion')\n"
   ]
  },
  {
   "cell_type": "code",
   "execution_count": 31,
   "id": "06ae475f",
   "metadata": {
    "id": "06ae475f",
    "outputId": "665cb40a-d8f5-491e-c439-51da7e7cc21f"
   },
   "outputs": [
    {
     "data": {
      "image/png": "[encoded data removed]",
      "text/plain": [
       "<Figure size 956.5x432 with 1 Axes>"
      ]
     },
     "metadata": {
      "needs_background": "light"
     },
     "output_type": "display_data"
    }
   ],
   "source": [
    "# Caracterisitas d elas operaciones en base a los tipo\n",
    "Grup_type_operation = pd.DataFrame(df_trans.groupby([\"type\",\"operation\"]).count().reset_index())\n",
    "g = sns.catplot(x=\"amount\", y=\"operation\",\n",
    "                hue=\"type\",\n",
    "                data=Grup_type_operation, kind=\"bar\",\n",
    "                 height=6, aspect=2);\n",
    "# No tengo muy claro pero type es el tipo de transaccion, y en el caso de CREDIT, SE VE QUE LAS OPERACIONES FUERON \n",
    "# COLLECTION FROM ANOTHER BANK, que supongo es dinero que se tomo llegando desde otro banco, ......"
   ]
  },
  {
   "cell_type": "markdown",
   "id": "32c063cd",
   "metadata": {
    "id": "32c063cd"
   },
   "source": [
    "## Tabla LOANS\n",
    "     LOANS, Prestamos: Cada registro describe un prestamo concedido para una cuenta determinada.\n",
    "        Columna \"loan_id\": Identificador de registro - 682 unicos\n",
    "        Columna \"account_id\": Identificador de cuenta - 682 unicos\n",
    "        Columna \"date\": Fecha de concesion del prestamo - 559 unicos\n",
    "        Columna \"amount\": Importe de prestamo - 645 unicos\n",
    "        Columna \"duration\": duracion del prestamo - 5 unicos\n",
    "        Columna \"payments\": pagos mensuales del prestamo - 577 unicos  \n",
    "        Columna \"status\": estado de la amortizacion del prestamo - 4 unicos\n",
    "                            A: contrato terminado, sin problema\n",
    "                            B: contrato terminado, prestamo no pagado\n",
    "                            C: contrato en ejecucion, ok hasta ahora\n",
    "                            D: contrato en ejecucion, cliente en deudado\n"
   ]
  },
  {
   "cell_type": "code",
   "execution_count": 32,
   "id": "083132e6",
   "metadata": {
    "colab": {
     "base_uri": "https://localhost:8080/",
     "height": 81
    },
    "executionInfo": {
     "elapsed": 226,
     "status": "ok",
     "timestamp": 1661290279804,
     "user": {
      "displayName": "Camilo Alejandro Hernández Salazar",
      "userId": "10950582753263929840"
     },
     "user_tz": 300
    },
    "id": "083132e6",
    "outputId": "e4a0440f-e52c-4112-f919-9e34412a17b2"
   },
   "outputs": [
    {
     "data": {
      "text/html": [
       "<div>\n",
       "<style scoped>\n",
       "    .dataframe tbody tr th:only-of-type {\n",
       "        vertical-align: middle;\n",
       "    }\n",
       "\n",
       "    .dataframe tbody tr th {\n",
       "        vertical-align: top;\n",
       "    }\n",
       "\n",
       "    .dataframe thead th {\n",
       "        text-align: right;\n",
       "    }\n",
       "</style>\n",
       "<table border=\"1\" class=\"dataframe\">\n",
       "  <thead>\n",
       "    <tr style=\"text-align: right;\">\n",
       "      <th></th>\n",
       "      <th>loan_id</th>\n",
       "      <th>account_id</th>\n",
       "      <th>date</th>\n",
       "      <th>amount</th>\n",
       "      <th>duration</th>\n",
       "      <th>payments</th>\n",
       "      <th>status</th>\n",
       "    </tr>\n",
       "  </thead>\n",
       "  <tbody>\n",
       "    <tr>\n",
       "      <th>20</th>\n",
       "      <td>4959</td>\n",
       "      <td>2</td>\n",
       "      <td>1994-01-05</td>\n",
       "      <td>80952</td>\n",
       "      <td>24</td>\n",
       "      <td>3373.0</td>\n",
       "      <td>A</td>\n",
       "    </tr>\n",
       "    <tr>\n",
       "      <th>239</th>\n",
       "      <td>4961</td>\n",
       "      <td>19</td>\n",
       "      <td>1996-04-29</td>\n",
       "      <td>30276</td>\n",
       "      <td>12</td>\n",
       "      <td>2523.0</td>\n",
       "      <td>B</td>\n",
       "    </tr>\n",
       "    <tr>\n",
       "      <th>505</th>\n",
       "      <td>4962</td>\n",
       "      <td>25</td>\n",
       "      <td>1997-12-08</td>\n",
       "      <td>30276</td>\n",
       "      <td>12</td>\n",
       "      <td>2523.0</td>\n",
       "      <td>A</td>\n",
       "    </tr>\n",
       "    <tr>\n",
       "      <th>663</th>\n",
       "      <td>4967</td>\n",
       "      <td>37</td>\n",
       "      <td>1998-10-14</td>\n",
       "      <td>318480</td>\n",
       "      <td>60</td>\n",
       "      <td>5308.0</td>\n",
       "      <td>D</td>\n",
       "    </tr>\n",
       "    <tr>\n",
       "      <th>582</th>\n",
       "      <td>4968</td>\n",
       "      <td>38</td>\n",
       "      <td>1998-04-19</td>\n",
       "      <td>110736</td>\n",
       "      <td>48</td>\n",
       "      <td>2307.0</td>\n",
       "      <td>C</td>\n",
       "    </tr>\n",
       "    <tr>\n",
       "      <th>...</th>\n",
       "      <td>...</td>\n",
       "      <td>...</td>\n",
       "      <td>...</td>\n",
       "      <td>...</td>\n",
       "      <td>...</td>\n",
       "      <td>...</td>\n",
       "      <td>...</td>\n",
       "    </tr>\n",
       "    <tr>\n",
       "      <th>654</th>\n",
       "      <td>7294</td>\n",
       "      <td>11327</td>\n",
       "      <td>1998-09-27</td>\n",
       "      <td>39168</td>\n",
       "      <td>24</td>\n",
       "      <td>1632.0</td>\n",
       "      <td>C</td>\n",
       "    </tr>\n",
       "    <tr>\n",
       "      <th>632</th>\n",
       "      <td>7295</td>\n",
       "      <td>11328</td>\n",
       "      <td>1998-07-18</td>\n",
       "      <td>280440</td>\n",
       "      <td>60</td>\n",
       "      <td>4674.0</td>\n",
       "      <td>C</td>\n",
       "    </tr>\n",
       "    <tr>\n",
       "      <th>189</th>\n",
       "      <td>7304</td>\n",
       "      <td>11349</td>\n",
       "      <td>1995-10-29</td>\n",
       "      <td>419880</td>\n",
       "      <td>60</td>\n",
       "      <td>6998.0</td>\n",
       "      <td>C</td>\n",
       "    </tr>\n",
       "    <tr>\n",
       "      <th>271</th>\n",
       "      <td>7305</td>\n",
       "      <td>11359</td>\n",
       "      <td>1996-08-06</td>\n",
       "      <td>54024</td>\n",
       "      <td>12</td>\n",
       "      <td>4502.0</td>\n",
       "      <td>A</td>\n",
       "    </tr>\n",
       "    <tr>\n",
       "      <th>327</th>\n",
       "      <td>7308</td>\n",
       "      <td>11362</td>\n",
       "      <td>1996-12-27</td>\n",
       "      <td>129408</td>\n",
       "      <td>24</td>\n",
       "      <td>5392.0</td>\n",
       "      <td>A</td>\n",
       "    </tr>\n",
       "  </tbody>\n",
       "</table>\n",
       "<p>682 rows × 7 columns</p>\n",
       "</div>"
      ],
      "text/plain": [
       "     loan_id  account_id        date  amount  duration  payments status\n",
       "20      4959           2  1994-01-05   80952        24    3373.0      A\n",
       "239     4961          19  1996-04-29   30276        12    2523.0      B\n",
       "505     4962          25  1997-12-08   30276        12    2523.0      A\n",
       "663     4967          37  1998-10-14  318480        60    5308.0      D\n",
       "582     4968          38  1998-04-19  110736        48    2307.0      C\n",
       "..       ...         ...         ...     ...       ...       ...    ...\n",
       "654     7294       11327  1998-09-27   39168        24    1632.0      C\n",
       "632     7295       11328  1998-07-18  280440        60    4674.0      C\n",
       "189     7304       11349  1995-10-29  419880        60    6998.0      C\n",
       "271     7305       11359  1996-08-06   54024        12    4502.0      A\n",
       "327     7308       11362  1996-12-27  129408        24    5392.0      A\n",
       "\n",
       "[682 rows x 7 columns]"
      ]
     },
     "execution_count": 32,
     "metadata": {},
     "output_type": "execute_result"
    }
   ],
   "source": [
    "df_loan = pd.read_csv('cleaned_loan.csv', sep = ',')\n",
    "df_loan.sort_values(by = \"account_id\")"
   ]
  },
  {
   "cell_type": "code",
   "execution_count": 33,
   "id": "33f01cd4",
   "metadata": {
    "colab": {
     "base_uri": "https://localhost:8080/"
    },
    "executionInfo": {
     "elapsed": 148,
     "status": "ok",
     "timestamp": 1661290287991,
     "user": {
      "displayName": "Camilo Alejandro Hernández Salazar",
      "userId": "10950582753263929840"
     },
     "user_tz": 300
    },
    "id": "33f01cd4",
    "outputId": "e456f2f1-dc64-4177-f36c-ca4a7a9dbcee"
   },
   "outputs": [
    {
     "name": "stdout",
     "output_type": "stream",
     "text": [
      "<class 'pandas.core.frame.DataFrame'>\n",
      "RangeIndex: 682 entries, 0 to 681\n",
      "Data columns (total 7 columns):\n",
      " #   Column      Non-Null Count  Dtype  \n",
      "---  ------      --------------  -----  \n",
      " 0   loan_id     682 non-null    int64  \n",
      " 1   account_id  682 non-null    int64  \n",
      " 2   date        682 non-null    object \n",
      " 3   amount      682 non-null    int64  \n",
      " 4   duration    682 non-null    int64  \n",
      " 5   payments    682 non-null    float64\n",
      " 6   status      682 non-null    object \n",
      "dtypes: float64(1), int64(4), object(2)\n",
      "memory usage: 37.4+ KB\n"
     ]
    }
   ],
   "source": [
    "df_loan.info()"
   ]
  },
  {
   "cell_type": "code",
   "execution_count": 34,
   "id": "eebe7179",
   "metadata": {},
   "outputs": [
    {
     "data": {
      "text/plain": [
       "loan_id       682\n",
       "account_id    682\n",
       "date          559\n",
       "amount        645\n",
       "duration        5\n",
       "payments      577\n",
       "status          4\n",
       "dtype: int64"
      ]
     },
     "execution_count": 34,
     "metadata": {},
     "output_type": "execute_result"
    }
   ],
   "source": [
    "df_loan.nunique()"
   ]
  },
  {
   "cell_type": "code",
   "execution_count": 35,
   "id": "e6bc3381",
   "metadata": {},
   "outputs": [
    {
     "data": {
      "text/plain": [
       "loan_id       0\n",
       "account_id    0\n",
       "date          0\n",
       "amount        0\n",
       "duration      0\n",
       "payments      0\n",
       "status        0\n",
       "dtype: int64"
      ]
     },
     "execution_count": 35,
     "metadata": {},
     "output_type": "execute_result"
    }
   ],
   "source": [
    "df_loan.isnull().sum()"
   ]
  },
  {
   "cell_type": "code",
   "execution_count": 36,
   "id": "412d9049",
   "metadata": {
    "id": "412d9049",
    "outputId": "ecbc10a9-9869-44e8-e62b-513cea217124"
   },
   "outputs": [
    {
     "name": "stdout",
     "output_type": "stream",
     "text": [
      "--DISTRIBUCION DE LOS TIPOS DE PRESTAMOS SEGUN DURACIO EN MESES--\n",
      " \n",
      "12: prestamos con duracion de 12 meses\n",
      "24: prestamos con duracion de 24 meses\n",
      "36: prestamos con duracion de 36 meses\n",
      "48: prestamos con duracion de 48 meses\n",
      "60: prestamos con duracion de 60 meses\n",
      "------------Distribucion----------\n",
      "Total:  682\n",
      "duration   12   24   36   48   60\n",
      "duration  131  138  130  138  145\n",
      "\n",
      "SE OBSERVA QUE DEL TOTAL DE LOS PRESTAMOS OTORGADOS, LA MAYOR PARTE DE ELLOS CORRESPONDE A LA DURACION DE 60 MESES (21.3%)\n"
     ]
    },
    {
     "data": {
      "text/plain": [
       "<Figure size 1008x360 with 0 Axes>"
      ]
     },
     "metadata": {},
     "output_type": "display_data"
    },
    {
     "data": {
      "image/png": "[encoded data removed]",
      "text/plain": [
       "<Figure size 360x360 with 1 Axes>"
      ]
     },
     "metadata": {
      "needs_background": "light"
     },
     "output_type": "display_data"
    }
   ],
   "source": [
    "print('--DISTRIBUCION DE LOS TIPOS DE PRESTAMOS SEGUN DURACIO EN MESES--')\n",
    "print(' ')\n",
    "print('12: prestamos con duracion de 12 meses')\n",
    "print('24: prestamos con duracion de 24 meses')\n",
    "print('36: prestamos con duracion de 36 meses')\n",
    "print('48: prestamos con duracion de 48 meses')\n",
    "print('60: prestamos con duracion de 60 meses')\n",
    "print('------------Distribucion----------')\n",
    "print(\"Total: \",df_loan['loan_id'].count())\n",
    "duration_loan = pd.DataFrame(df_loan.groupby(['duration'])['duration'].count())\n",
    "print(duration_loan.T)\n",
    "print('')\n",
    "print(\"SE OBSERVA QUE DEL TOTAL DE LOS PRESTAMOS OTORGADOS, LA MAYOR PARTE DE ELLOS CORRESPONDE A LA DURACION DE 60 MESES (21.3%)\")\n",
    "\n",
    "\n",
    "\n",
    "df_loan['duration']=df_loan['duration'].astype(str)\n",
    "plt.figure(figsize = (14,5))\n",
    "ax=sns.catplot(x=\"duration\", kind=\"count\", data=df_loan,order=['12', '24', '36', '48','60'], palette=\"Blues_d\")\n",
    "\n",
    "plt.xlabel('Meses de duracion')\n",
    "plt.ylabel('Cantidad de prestamos otorgados')\n",
    "plt.title('Cantidad de prestamos otrogados por meses de duracion')\n",
    "\n",
    "plt.show()\n",
    "# Tuve problemas para agregar labels"
   ]
  },
  {
   "cell_type": "code",
   "execution_count": 37,
   "id": "e9137203",
   "metadata": {
    "id": "e9137203",
    "outputId": "a1127d12-c34b-460d-b7d0-0b3edb67c43f"
   },
   "outputs": [
    {
     "name": "stdout",
     "output_type": "stream",
     "text": [
      "--PROMEDIO DE LOS PRESTAMOS SEGUN DURACIO EN MESES--\n",
      " \n",
      "12: prestamos con duracion de 12 meses\n",
      "24: prestamos con duracion de 24 meses\n",
      "36: prestamos con duracion de 36 meses\n",
      "48: prestamos con duracion de 48 meses\n",
      "60: prestamos con duracion de 60 meses\n",
      "------------caracteristicas----------\n",
      "          duration  porc  mean_amount\n",
      "duration                             \n",
      "12             131  19.2      53635.5\n",
      "24             138  20.2      99217.9\n",
      "36             130  19.1     144048.2\n",
      "48             138  20.2     205592.7\n",
      "60             145  21.3     244450.8\n",
      "\n",
      "SE OBSERVA QUE DE LOS PRESTAMOS OTORGADOS POR EL BANCO, AQUELLOS CON MAYOR DURACION SON LOS QUE RECIBIERON MONTOS PROMEDIOS MAS ALTOS\n"
     ]
    },
    {
     "data": {
      "image/png": "[encoded data removed]",
      "text/plain": [
       "<Figure size 1008x360 with 1 Axes>"
      ]
     },
     "metadata": {
      "needs_background": "light"
     },
     "output_type": "display_data"
    }
   ],
   "source": [
    "print('--PROMEDIO DE LOS PRESTAMOS SEGUN DURACIO EN MESES--')\n",
    "print(' ')\n",
    "print('12: prestamos con duracion de 12 meses')\n",
    "print('24: prestamos con duracion de 24 meses')\n",
    "print('36: prestamos con duracion de 36 meses')\n",
    "print('48: prestamos con duracion de 48 meses')\n",
    "print('60: prestamos con duracion de 60 meses')\n",
    "print('------------caracteristicas----------')\n",
    "\n",
    "duration_loan = pd.DataFrame(df_loan.groupby(['duration'])['duration'].count())\n",
    "duration_loan\n",
    "duration_loan['porc'] = round((duration_loan/duration_loan.sum())*100,1)\n",
    "duration_loan['mean_amount'] = round(pd.DataFrame(df_loan.groupby(['duration'])['amount'].mean()),1)\n",
    "\n",
    "print(duration_loan)\n",
    "print('')\n",
    "print('SE OBSERVA QUE DE LOS PRESTAMOS OTORGADOS POR EL BANCO, AQUELLOS CON MAYOR DURACION SON LOS QUE RECIBIERON MONTOS PROMEDIOS MAS ALTOS')\n",
    "plt.figure(figsize = (14,5))\n",
    "x = sns.barplot(x=\"duration\", y='amount', data=df_loan,order=['12', '24', '36', '48','60'], ci=68)\n",
    "plt.xlabel('Duracion (meses)')\n",
    "plt.ylabel('Promedio ($)')\n",
    "plt.title('Monto promedio por tipo de prestamo')\n",
    "\n",
    "plt.show()\n"
   ]
  },
  {
   "cell_type": "code",
   "execution_count": 38,
   "id": "5a5a2391",
   "metadata": {
    "id": "5a5a2391",
    "outputId": "9727e751-5174-46ac-df9f-ec2be7476780"
   },
   "outputs": [
    {
     "name": "stdout",
     "output_type": "stream",
     "text": [
      "--PRESTAMOS SEGUN DURACIO EN MESES--\n",
      " \n",
      "12: prestamos con duracion de 12 meses\n",
      "24: prestamos con duracion de 24 meses\n",
      "36: prestamos con duracion de 36 meses\n",
      "48: prestamos con duracion de 48 meses\n",
      "60: prestamos con duracion de 60 meses\n",
      "------------caracteristicas----------\n",
      "          duration  porc  mean_amount  median_amount  max_amount  min_amount  \\\n",
      "duration                                                                       \n",
      "12             131  19.2      53635.5        45768.0      116832        4980   \n",
      "24             138  20.2      99217.9        92280.0      209040        7656   \n",
      "36             130  19.1     144048.2       142812.0      300204       10944   \n",
      "48             138  20.2     205592.7       190440.0      475680       16032   \n",
      "60             145  21.3     244450.8       240900.0      590820       18720   \n",
      "\n",
      "          std_amount  \n",
      "duration              \n",
      "12           27844.3  \n",
      "24           49699.3  \n",
      "36           74849.3  \n",
      "48          115774.8  \n",
      "60          130683.1  \n",
      "\n",
      "A PESAR QUE EL GRAFICO PREVIO MOSTRO QUE LOS PROMEDIOS DE LOS MONTOS POR PRESTAMOS TENIA UNA CARACTERISTICA ASCENDENTE DONDE LOS QUE MENOS DURACION TENIAN, ERAN LOS QUE TENIA MONTOS PROMEDIO MAS BAJOS. EN ESTE GRAFICO SE CONFIRMA ESA CARACTERISTICA,PERO SE VE QUE EL RANGO DENTRO DE CADA GRUPO ES AMPLIO Y SE MAGNIFICA A MEDIDA QUE EL PRESTAMO ES DE MAYOR DURACION DE MESES\n",
      "\n",
      "SE OBSERVA TAMBIEN UNA DISTRIBUCION PRACTICAMENTE NORMAL EN TODOS LOS CASOS, EXCEPTO EN LOS DE 12 MESES DONDE CLARAMENTE LA MEDIA ESTA MAS PROXIMA A LOS VALORES MAS BAJAOS DE LOS MONTOS SOLICITADOS.\n"
     ]
    },
    {
     "data": {
      "image/png": "[encoded data removed]",
      "text/plain": [
       "<Figure size 1008x432 with 1 Axes>"
      ]
     },
     "metadata": {
      "needs_background": "light"
     },
     "output_type": "display_data"
    }
   ],
   "source": [
    "print('--PRESTAMOS SEGUN DURACIO EN MESES--')\n",
    "print(' ')\n",
    "print('12: prestamos con duracion de 12 meses')\n",
    "print('24: prestamos con duracion de 24 meses')\n",
    "print('36: prestamos con duracion de 36 meses')\n",
    "print('48: prestamos con duracion de 48 meses')\n",
    "print('60: prestamos con duracion de 60 meses')\n",
    "print('------------caracteristicas----------')\n",
    "\n",
    "duration_loan = pd.DataFrame(df_loan.groupby(['duration'])['duration'].count())\n",
    "duration_loan\n",
    "duration_loan['porc'] = round((duration_loan/duration_loan.sum())*100,1)\n",
    "duration_loan['mean_amount'] = round(pd.DataFrame(df_loan.groupby(['duration'])['amount'].mean()),1)\n",
    "duration_loan['median_amount'] = round(pd.DataFrame(df_loan.groupby(['duration'])['amount'].median()),1)\n",
    "duration_loan['max_amount'] = round(pd.DataFrame(df_loan.groupby(['duration'])['amount'].max()),1)\n",
    "duration_loan['min_amount'] = round(pd.DataFrame(df_loan.groupby(['duration'])['amount'].min()),1)\n",
    "duration_loan['std_amount'] = round(pd.DataFrame(df_loan.groupby(['duration'])['amount'].std()),1)\n",
    "\n",
    "print(duration_loan)\n",
    "\n",
    "\n",
    "fig, ax = plt.subplots(figsize=(14,6))\n",
    "ax = sns.boxplot(x =\"duration\", y= \"amount\",data=df_loan, order=[ \n",
    "                 '12', '24', '36', '48','60'])\n",
    "plt.xlabel('Duracion (meses)')\n",
    "plt.ylabel('Amount ($)')\n",
    "plt.title('Caracteristicas de los montos de los prestamos segun duracion del mismo')\n",
    "print('')\n",
    "print('A PESAR QUE EL GRAFICO PREVIO MOSTRO QUE LOS PROMEDIOS DE LOS MONTOS POR PRESTAMOS TENIA UNA CARACTERISTICA ASCENDENTE DONDE LOS QUE MENOS DURACION TENIAN, ERAN LOS QUE TENIA MONTOS PROMEDIO MAS BAJOS. EN ESTE GRAFICO SE CONFIRMA ESA CARACTERISTICA,PERO SE VE QUE EL RANGO DENTRO DE CADA GRUPO ES AMPLIO Y SE MAGNIFICA A MEDIDA QUE EL PRESTAMO ES DE MAYOR DURACION DE MESES')\n",
    "print('')\n",
    "print('SE OBSERVA TAMBIEN UNA DISTRIBUCION PRACTICAMENTE NORMAL EN TODOS LOS CASOS, EXCEPTO EN LOS DE 12 MESES DONDE CLARAMENTE LA MEDIA ESTA MAS PROXIMA A LOS VALORES MAS BAJAOS DE LOS MONTOS SOLICITADOS.')"
   ]
  },
  {
   "cell_type": "code",
   "execution_count": 39,
   "id": "bd279641",
   "metadata": {
    "id": "bd279641",
    "outputId": "2e870d19-c011-4d5a-f44d-22d1016f75d0"
   },
   "outputs": [
    {
     "name": "stdout",
     "output_type": "stream",
     "text": [
      "------------STATUS DE LOS PRESTAMOS------------\n",
      "\n",
      "A: contrato terminado, sin problema\n",
      "B: contrato terminado, prestamo no pagado\n",
      "C: contrato en ejecucion, ok hasta ahora\n",
      "D: contrato en ejecucion, cliente en deudado\n",
      "status    A   B    C   D\n",
      "status  203  31  403  45\n",
      "\n",
      "DE LOS 682 PRSTAMOS OTORGADOS POR EL BANCO SE OBSERVA QUE EL 606 (88.9%) SE ENCUENTRA EN SITUACION NORMAL DE PAGO, MIENTRAS QUE EL QUE 76 (11,1%) DE ELLOS SE ENCUENTRA CON ALUGN TIPO DE PROBLEMA DE PAGO \n"
     ]
    },
    {
     "data": {
      "image/png": "[encoded data removed]",
      "text/plain": [
       "<Figure size 360x360 with 1 Axes>"
      ]
     },
     "metadata": {
      "needs_background": "light"
     },
     "output_type": "display_data"
    }
   ],
   "source": [
    "print('------------STATUS DE LOS PRESTAMOS------------')\n",
    "print('')\n",
    "print('A: contrato terminado, sin problema')\n",
    "\n",
    "print('B: contrato terminado, prestamo no pagado')\n",
    "print('C: contrato en ejecucion, ok hasta ahora')\n",
    "print('D: contrato en ejecucion, cliente en deudado')\n",
    "\n",
    "status_loan = pd.DataFrame(df_loan.groupby(['status'])['status'].count())\n",
    "print(status_loan.T)\n",
    "print('')\n",
    "print(\"DE LOS 682 PRSTAMOS OTORGADOS POR EL BANCO SE OBSERVA QUE EL 606 (88.9%) SE ENCUENTRA EN SITUACION NORMAL DE PAGO, MIENTRAS QUE EL QUE 76 (11,1%) DE ELLOS SE ENCUENTRA CON ALUGN TIPO DE PROBLEMA DE PAGO \")\n",
    "sns.catplot(x=\"status\", kind=\"count\", palette=\"ch:.25\", data=df_loan, order=['A','B','C','D'])\n",
    "plt.xlabel('Status')\n",
    "plt.ylabel('Numero de prestamos segun condicion')\n",
    "plt.title('Condición \"Status\" de los prestamos')\n",
    "\n",
    "plt.show()\n",
    "\n"
   ]
  },
  {
   "cell_type": "code",
   "execution_count": 40,
   "id": "e5f00599",
   "metadata": {
    "id": "e5f00599",
    "outputId": "728290e6-765f-4166-a220-f6effd566ac6"
   },
   "outputs": [
    {
     "name": "stdout",
     "output_type": "stream",
     "text": [
      "------------PRESTAMOS SEGUN STATUS------------\n",
      "\n",
      "A: contrato terminado, sin problema\n",
      "B: contrato terminado, prestamo no pagado\n",
      "C: contrato en ejecucion, ok hasta ahora\n",
      "D: contrato en ejecucion, cliente en deudado\n",
      "------------caracteristicas----------\n",
      "        status  porc  mean_amount  median_amount  std_amount\n",
      "status                                                      \n",
      "A          203  29.8      91641.5        79632.0     64705.1\n",
      "B           31   4.5     140720.9        96396.0     99635.8\n",
      "C          403  59.1     171410.4       153504.0    117113.9\n",
      "D           45   6.6     249284.5       260400.0    132704.8\n",
      "\n",
      "EL GRAFICO MUESTA QUE EL MONTO PROMEDIO DE LOS PRESTAMOS EN LA CATEGORIA 'D' ES EL MAS ALTO. Y EN CASO QUE SE JUNTARAN LAS ACTEGORIAS A/C Y B/D, EL MONTO PROMEDIO DE AQUELLOS CREDITOS CON PROBLEMAS SERIA MAS ALTO\n"
     ]
    },
    {
     "data": {
      "image/png": "[encoded data removed]",
      "text/plain": [
       "<Figure size 1008x360 with 1 Axes>"
      ]
     },
     "metadata": {
      "needs_background": "light"
     },
     "output_type": "display_data"
    }
   ],
   "source": [
    "print('------------PRESTAMOS SEGUN STATUS------------')\n",
    "print('')\n",
    "print('A: contrato terminado, sin problema')\n",
    "\n",
    "print('B: contrato terminado, prestamo no pagado')\n",
    "print('C: contrato en ejecucion, ok hasta ahora')\n",
    "print('D: contrato en ejecucion, cliente en deudado')\n",
    "\n",
    "print('------------caracteristicas----------')\n",
    "\n",
    "status_loan = pd.DataFrame(df_loan.groupby(['status'])['status'].count())\n",
    "status_loan\n",
    "status_loan['porc'] = round((status_loan/status_loan.sum())*100,1)\n",
    "status_loan['mean_amount'] = round(pd.DataFrame(df_loan.groupby(['status'])['amount'].mean()),1)\n",
    "status_loan['median_amount'] = round(pd.DataFrame(df_loan.groupby(['status'])['amount'].median()),0)\n",
    "status_loan['std_amount'] = round(pd.DataFrame(df_loan.groupby(['status'])['amount'].std()),1)\n",
    "\n",
    "status_loan\n",
    "print(status_loan)\n",
    "\n",
    "plt.figure(figsize = (14,5))\n",
    "x = sns.barplot(x=\"status\", y='amount', data=df_loan,order=['A', 'B', 'C', 'D'], ci=68)\n",
    "plt.xlabel('Status')\n",
    "plt.ylabel('Amount Promedio ($)')\n",
    "plt.title('Monto promedio del prestamo dependiendo del status')\n",
    "\n",
    "\n",
    "\n",
    "print('')\n",
    "print(\"EL GRAFICO MUESTA QUE EL MONTO PROMEDIO DE LOS PRESTAMOS EN LA CATEGORIA 'D' ES EL MAS ALTO. Y EN CASO QUE SE JUNTARAN LAS ACTEGORIAS A/C Y B/D, EL MONTO PROMEDIO DE AQUELLOS CREDITOS CON PROBLEMAS SERIA MAS ALTO\")"
   ]
  },
  {
   "cell_type": "code",
   "execution_count": 41,
   "id": "1ff94ff6",
   "metadata": {
    "id": "1ff94ff6",
    "outputId": "ba62e4b5-eaaa-455e-cca8-91e842e75b51"
   },
   "outputs": [
    {
     "name": "stdout",
     "output_type": "stream",
     "text": [
      "------------PRESTAMOS SEGUN STATUS------------\n",
      "\n",
      "A: contrato terminado, sin problema\n",
      "B: contrato terminado, prestamo no pagado\n",
      "C: contrato en ejecucion, ok hasta ahora\n",
      "D: contrato en ejecucion, cliente en deudado\n",
      "------------caracteristicas----------\n",
      "        status  porc  mean_amount  median_amount  max_amount  min_amount  \\\n",
      "status                                                                     \n",
      "A          203  29.8      91641.5        79632.0      323472        4980   \n",
      "B           31   4.5     140720.9        96396.0      464520       29448   \n",
      "C          403  59.1     171410.4       153504.0      590820        5148   \n",
      "D           45   6.6     249284.5       260400.0      541200       36204   \n",
      "\n",
      "        std_amount  \n",
      "status              \n",
      "A          64705.1  \n",
      "B          99635.8  \n",
      "C         117113.9  \n",
      "D         132704.8  \n",
      "\n",
      "ESTE GRAFICO CONFIRMA LO VISTO PREVIAMENTE, LA CATEGORIA 'D' DE STATUS, TIENE LA MEDIANA MAS ALTOS QUE EL RESTO, SOPORTANDO LA IDEA QUE LOS CREDITOS QUE CAEN EN IMPAGOS, SON AQUELLOS QUE LOS MONTOS SOLOCITADOS SON MAS ALTOS\n"
     ]
    },
    {
     "data": {
      "text/plain": [
       "Text(0.5, 1.0, 'Caracteristicas de los montos de los prestamos segun Status')"
      ]
     },
     "execution_count": 41,
     "metadata": {},
     "output_type": "execute_result"
    },
    {
     "data": {
      "image/png": "[encoded data removed]",
      "text/plain": [
       "<Figure size 1080x432 with 1 Axes>"
      ]
     },
     "metadata": {
      "needs_background": "light"
     },
     "output_type": "display_data"
    }
   ],
   "source": [
    "print('------------PRESTAMOS SEGUN STATUS------------')\n",
    "print('')\n",
    "print('A: contrato terminado, sin problema')\n",
    "print('B: contrato terminado, prestamo no pagado')\n",
    "print('C: contrato en ejecucion, ok hasta ahora')\n",
    "print('D: contrato en ejecucion, cliente en deudado')\n",
    "\n",
    "print('------------caracteristicas----------')\n",
    "status_loan = pd.DataFrame(df_loan.groupby(['status'])['status'].count())\n",
    "status_loan\n",
    "status_loan['porc'] = round((status_loan/status_loan.sum())*100,1)\n",
    "status_loan['mean_amount'] = round(pd.DataFrame(df_loan.groupby(['status'])['amount'].mean()),1)\n",
    "status_loan['median_amount'] = round(pd.DataFrame(df_loan.groupby(['status'])['amount'].median()),0)\n",
    "status_loan['max_amount'] = round(pd.DataFrame(df_loan.groupby(['status'])['amount'].max()),1)\n",
    "status_loan['min_amount'] = round(pd.DataFrame(df_loan.groupby(['status'])['amount'].min()),1)\n",
    "status_loan['std_amount'] = round(pd.DataFrame(df_loan.groupby(['status'])['amount'].std()),1)\n",
    "print(status_loan)\n",
    "print('')\n",
    "print(\"ESTE GRAFICO CONFIRMA LO VISTO PREVIAMENTE, LA CATEGORIA 'D' DE STATUS, TIENE LA MEDIANA MAS ALTOS QUE EL RESTO, SOPORTANDO LA IDEA QUE LOS CREDITOS QUE CAEN EN IMPAGOS, SON AQUELLOS QUE LOS MONTOS SOLOCITADOS SON MAS ALTOS\")\n",
    "\n",
    "fig, ax = plt.subplots(figsize=(15,6))\n",
    "ax = sns.boxplot(x =\"status\", y= \"amount\",data=df_loan, order=[ \n",
    "                 'A', 'B', 'C', 'D'])\n",
    "plt.xlabel('Status')\n",
    "plt.ylabel('Amount ($)')\n",
    "plt.title('Caracteristicas de los montos de los prestamos segun Status')"
   ]
  },
  {
   "cell_type": "code",
   "execution_count": 42,
   "id": "6037d404",
   "metadata": {
    "colab": {
     "base_uri": "https://localhost:8080/",
     "height": 593
    },
    "executionInfo": {
     "elapsed": 715,
     "status": "ok",
     "timestamp": 1661292399165,
     "user": {
      "displayName": "Camilo Alejandro Hernández Salazar",
      "userId": "10950582753263929840"
     },
     "user_tz": 300
    },
    "id": "6037d404",
    "outputId": "dec9a173-cfcd-4092-8b2c-8bb2a6c3b51b"
   },
   "outputs": [
    {
     "name": "stdout",
     "output_type": "stream",
     "text": [
      "------------NUMERO DE PRESTAMOS SEGUN DURACION Y STATUS------------\n",
      "\n",
      "status     A   B    C   D    %A    %B    %C    %D\n",
      "duration                                         \n",
      "12        93  10   27   1  45.8  32.3   6.7   2.2\n",
      "24        64  11   57   6  31.5  35.5  14.1  13.3\n",
      "36        32   7   83   8  15.8  22.6  20.6  17.8\n",
      "48        11   2  111  14   5.4   6.5  27.5  31.1\n",
      "60         3   1  125  16   1.5   3.2  31.0  35.6\n",
      "\n",
      "AL RELACIONAR LAS VARIABLES DURACION DE PRESTAMO Y STATUS CREDITICIO, SE CONFIRMA QUE A MEDIDA QUE LA DURACION DE LOS PRESTAMOS AUMENTA, EL NUMERO DE CASOS DE MORA TAMBIEN LOS HACE\n"
     ]
    },
    {
     "data": {
      "text/plain": [
       "<Figure size 864x360 with 0 Axes>"
      ]
     },
     "metadata": {},
     "output_type": "display_data"
    },
    {
     "data": {
      "image/png": "[encoded data removed]",
      "text/plain": [
       "<Figure size 403.75x360 with 1 Axes>"
      ]
     },
     "metadata": {
      "needs_background": "light"
     },
     "output_type": "display_data"
    }
   ],
   "source": [
    "print('------------NUMERO DE PRESTAMOS SEGUN DURACION Y STATUS------------')\n",
    "print('')\n",
    "\n",
    "duration_loans = pd.DataFrame(df_loan.groupby(['duration','status','loan_id'])['loan_id'].count())\n",
    "status_pivot = duration_loans.pivot_table(index='duration',columns='status',values='loan_id',aggfunc='count')\n",
    "status_pivot1=status_pivot\n",
    "status_pivot1['%A'] = round((status_pivot1['A']/status_pivot1['A'].sum())*100,1)\n",
    "status_pivot1['%B'] = round((status_pivot1['B']/status_pivot1['B'].sum())*100,1)\n",
    "status_pivot1['%C'] = round((status_pivot1['C']/status_pivot1['C'].sum())*100,1)\n",
    "status_pivot1['%D'] = round((status_pivot1['D']/status_pivot1['D'].sum())*100,1)\n",
    "status_pivot_abs_porc = status_pivot1\n",
    "status_pivot_abs_porc\n",
    "print(status_pivot_abs_porc)\n",
    "print('')\n",
    "print('AL RELACIONAR LAS VARIABLES DURACION DE PRESTAMO Y STATUS CREDITICIO, SE CONFIRMA QUE A MEDIDA QUE LA DURACION DE LOS PRESTAMOS AUMENTA, EL NUMERO DE CASOS DE MORA TAMBIEN LOS HACE')\n",
    "\n",
    "\n",
    "plt.figure(figsize = (12,5))\n",
    "sns.catplot(x=\"duration\", kind=\"count\", hue=\"status\", data=df_loan,order=['12', '24', '36', '48','60'])\n",
    "plt.xlabel('Duracion del los prestamos (meses)')\n",
    "plt.ylabel('Numero de prestamos')\n",
    "plt.title('Numero de prestamos por Duracion y Status')\n",
    "\n",
    "plt.show()\n"
   ]
  },
  {
   "cell_type": "code",
   "execution_count": 43,
   "id": "48cc8882",
   "metadata": {
    "id": "48cc8882",
    "outputId": "57703c70-f14a-4de7-98a6-bfc98e9fb8aa",
    "scrolled": false
   },
   "outputs": [
    {
     "name": "stdout",
     "output_type": "stream",
     "text": [
      "------------NUMERO DE PRESTAMOS SEGUN DURACION Y STATUS------------\n",
      "\n",
      "status     A   B    C   D    %A    %B    %C    %D\n",
      "duration                                         \n",
      "12        93  10   27   1  45.8  32.3   6.7   2.2\n",
      "24        64  11   57   6  31.5  35.5  14.1  13.3\n",
      "36        32   7   83   8  15.8  22.6  20.6  17.8\n",
      "48        11   2  111  14   5.4   6.5  27.5  31.1\n",
      "60         3   1  125  16   1.5   3.2  31.0  35.6\n",
      "\n",
      "AL RELACIONAR LAS VARIABLES DURACION DE PRESTAMO Y STATUS CREDITICIO, SE OBSERVA QUE LOS PRESTAMOS DE STATUS B, TIENEN UNA MEDIA DE MONTO MAS ALTO QUE EL RESTO DE LOS STATUS EN AQUELLOS CREDITOS DE 24 Y 36 MESES. EN EL CASO DE LOS 36 MESES EL STATUS QUE SIGUE AL B CON MEDIA MAS ALTA ES EL D.\n",
      "\n",
      "A MEDIDA QUE LA DURACION SIGUE AUMENTANDO, SE OBSERVA QUE LOS PRESTAMOS CON STATUS D TIENE UNA MEDIA MAYOR QUE EL RESTO.\n",
      "\n",
      "LUEGO DE REALIZAR ESTE PRIMER ANALISIS DE LOS DATOS, PODRIAMOS AFIRMAR QUE LOS CREDITOS QUE CAEN EN MORA SON AQUELLOS DE MAYOR MONTOPROMEDIO Y DURACION.\n"
     ]
    },
    {
     "data": {
      "text/plain": [
       "Text(0.5, 1.0, 'Monto de los prestamos por Duracion y Status')"
      ]
     },
     "execution_count": 43,
     "metadata": {},
     "output_type": "execute_result"
    },
    {
     "data": {
      "image/png": "[encoded data removed]",
      "text/plain": [
       "<Figure size 1080x432 with 1 Axes>"
      ]
     },
     "metadata": {
      "needs_background": "light"
     },
     "output_type": "display_data"
    }
   ],
   "source": [
    "print('------------NUMERO DE PRESTAMOS SEGUN DURACION Y STATUS------------')\n",
    "print('')\n",
    "\n",
    "\n",
    "duration_loans = pd.DataFrame(df_loan.groupby(['duration','status','loan_id'])['loan_id'].count())\n",
    "status_pivot = duration_loans.pivot_table(index='duration',columns='status',values='loan_id',aggfunc='count')\n",
    "status_pivot1=status_pivot\n",
    "status_pivot1['%A'] = round((status_pivot1['A']/status_pivot1['A'].sum())*100,1)\n",
    "status_pivot1['%B'] = round((status_pivot1['B']/status_pivot1['B'].sum())*100,1)\n",
    "status_pivot1['%C'] = round((status_pivot1['C']/status_pivot1['C'].sum())*100,1)\n",
    "status_pivot1['%D'] = round((status_pivot1['D']/status_pivot1['D'].sum())*100,1)\n",
    "status_pivot_abs_porc = status_pivot1\n",
    "status_pivot_abs_porc\n",
    "print(status_pivot_abs_porc)\n",
    "print('')\n",
    "print('AL RELACIONAR LAS VARIABLES DURACION DE PRESTAMO Y STATUS CREDITICIO, SE OBSERVA QUE LOS PRESTAMOS DE STATUS B, TIENEN UNA MEDIA DE MONTO MAS ALTO QUE EL RESTO DE LOS STATUS EN AQUELLOS CREDITOS DE 24 Y 36 MESES. EN EL CASO DE LOS 36 MESES EL STATUS QUE SIGUE AL B CON MEDIA MAS ALTA ES EL D.')\n",
    "print('')\n",
    "print(\"A MEDIDA QUE LA DURACION SIGUE AUMENTANDO, SE OBSERVA QUE LOS PRESTAMOS CON STATUS D TIENE UNA MEDIA MAYOR QUE EL RESTO.\")\n",
    "print('')\n",
    "print('LUEGO DE REALIZAR ESTE PRIMER ANALISIS DE LOS DATOS, PODRIAMOS AFIRMAR QUE LOS CREDITOS QUE CAEN EN MORA SON AQUELLOS DE MAYOR MONTOPROMEDIO Y DURACION.')\n",
    "      \n",
    "\n",
    "fig, ax = plt.subplots(figsize=(15,6))\n",
    "ax = sns.boxplot(x =\"duration\", y= \"amount\",data=df_loan,order=[ \n",
    "                 '12', '24', '36', '48','60'],hue = 'status')\n",
    "plt.xlabel('Meses de duracion (meses)')\n",
    "plt.ylabel('Monto ($)')\n",
    "plt.title('Monto de los prestamos por Duracion y Status')"
   ]
  },
  {
   "cell_type": "code",
   "execution_count": 44,
   "id": "186e2cee",
   "metadata": {
    "id": "186e2cee",
    "outputId": "82ddb275-f1e6-4bae-d2b2-9eec9ec2e2f5"
   },
   "outputs": [
    {
     "data": {
      "text/plain": [
       "Text(0.5, 1.0, 'Montos por status y duracion ')"
      ]
     },
     "execution_count": 44,
     "metadata": {},
     "output_type": "execute_result"
    },
    {
     "data": {
      "image/png": "[encoded data removed]",
      "text/plain": [
       "<Figure size 1080x432 with 1 Axes>"
      ]
     },
     "metadata": {
      "needs_background": "light"
     },
     "output_type": "display_data"
    }
   ],
   "source": [
    "fig, ax = plt.subplots(figsize=(15,6))\n",
    "ax = sns.boxplot(x =\"status\", y= \"amount\",data=df_loan,order=[ \n",
    "                 'A', 'B', 'C', 'D'],hue = 'duration')\n",
    "plt.xlabel('Status del prestamo')\n",
    "plt.ylabel('Monto ($)')\n",
    "plt.title('Montos por status y duracion ')"
   ]
  },
  {
   "cell_type": "code",
   "execution_count": 45,
   "id": "16f6b46b",
   "metadata": {
    "id": "16f6b46b",
    "outputId": "79134aac-256a-40e3-8915-0d960ec817c5"
   },
   "outputs": [
    {
     "data": {
      "text/html": [
       "<div>\n",
       "<style scoped>\n",
       "    .dataframe tbody tr th:only-of-type {\n",
       "        vertical-align: middle;\n",
       "    }\n",
       "\n",
       "    .dataframe tbody tr th {\n",
       "        vertical-align: top;\n",
       "    }\n",
       "\n",
       "    .dataframe thead th {\n",
       "        text-align: right;\n",
       "    }\n",
       "</style>\n",
       "<table border=\"1\" class=\"dataframe\">\n",
       "  <thead>\n",
       "    <tr style=\"text-align: right;\">\n",
       "      <th></th>\n",
       "      <th>duration</th>\n",
       "      <th>porc</th>\n",
       "      <th>mean_amount</th>\n",
       "      <th>median_amount</th>\n",
       "      <th>max_amount</th>\n",
       "      <th>min_amount</th>\n",
       "      <th>std_amount</th>\n",
       "    </tr>\n",
       "    <tr>\n",
       "      <th>duration</th>\n",
       "      <th></th>\n",
       "      <th></th>\n",
       "      <th></th>\n",
       "      <th></th>\n",
       "      <th></th>\n",
       "      <th></th>\n",
       "      <th></th>\n",
       "    </tr>\n",
       "  </thead>\n",
       "  <tbody>\n",
       "    <tr>\n",
       "      <th>12</th>\n",
       "      <td>131</td>\n",
       "      <td>19.2</td>\n",
       "      <td>53635.5</td>\n",
       "      <td>45768.0</td>\n",
       "      <td>116832</td>\n",
       "      <td>4980</td>\n",
       "      <td>27844.3</td>\n",
       "    </tr>\n",
       "    <tr>\n",
       "      <th>24</th>\n",
       "      <td>138</td>\n",
       "      <td>20.2</td>\n",
       "      <td>99217.9</td>\n",
       "      <td>92280.0</td>\n",
       "      <td>209040</td>\n",
       "      <td>7656</td>\n",
       "      <td>49699.3</td>\n",
       "    </tr>\n",
       "    <tr>\n",
       "      <th>36</th>\n",
       "      <td>130</td>\n",
       "      <td>19.1</td>\n",
       "      <td>144048.2</td>\n",
       "      <td>142812.0</td>\n",
       "      <td>300204</td>\n",
       "      <td>10944</td>\n",
       "      <td>74849.3</td>\n",
       "    </tr>\n",
       "    <tr>\n",
       "      <th>48</th>\n",
       "      <td>138</td>\n",
       "      <td>20.2</td>\n",
       "      <td>205592.7</td>\n",
       "      <td>190440.0</td>\n",
       "      <td>475680</td>\n",
       "      <td>16032</td>\n",
       "      <td>115774.8</td>\n",
       "    </tr>\n",
       "    <tr>\n",
       "      <th>60</th>\n",
       "      <td>145</td>\n",
       "      <td>21.3</td>\n",
       "      <td>244450.8</td>\n",
       "      <td>240900.0</td>\n",
       "      <td>590820</td>\n",
       "      <td>18720</td>\n",
       "      <td>130683.1</td>\n",
       "    </tr>\n",
       "  </tbody>\n",
       "</table>\n",
       "</div>"
      ],
      "text/plain": [
       "          duration  porc  mean_amount  median_amount  max_amount  min_amount  \\\n",
       "duration                                                                       \n",
       "12             131  19.2      53635.5        45768.0      116832        4980   \n",
       "24             138  20.2      99217.9        92280.0      209040        7656   \n",
       "36             130  19.1     144048.2       142812.0      300204       10944   \n",
       "48             138  20.2     205592.7       190440.0      475680       16032   \n",
       "60             145  21.3     244450.8       240900.0      590820       18720   \n",
       "\n",
       "          std_amount  \n",
       "duration              \n",
       "12           27844.3  \n",
       "24           49699.3  \n",
       "36           74849.3  \n",
       "48          115774.8  \n",
       "60          130683.1  "
      ]
     },
     "execution_count": 45,
     "metadata": {},
     "output_type": "execute_result"
    }
   ],
   "source": [
    "\n",
    "duration_loan = pd.DataFrame(df_loan.groupby(['duration'])['duration'].count())\n",
    "duration_loan\n",
    "duration_loan['porc'] = round((duration_loan/duration_loan.sum())*100,1)\n",
    "duration_loan['mean_amount'] = round(pd.DataFrame(df_loan.groupby(['duration'])['amount'].mean()),1)\n",
    "duration_loan['median_amount'] = round(pd.DataFrame(df_loan.groupby(['duration'])['amount'].median()),1)\n",
    "duration_loan['max_amount'] = round(pd.DataFrame(df_loan.groupby(['duration'])['amount'].max()),1)\n",
    "duration_loan['min_amount'] = round(pd.DataFrame(df_loan.groupby(['duration'])['amount'].min()),1)\n",
    "duration_loan['std_amount'] = round(pd.DataFrame(df_loan.groupby(['duration'])['amount'].std()),1)\n",
    "\n",
    "duration_loan\n",
    "# La distribucion del total de prestamos es pareja, siendo la mayor los de 60 meses con un 21.2%"
   ]
  },
  {
   "cell_type": "code",
   "execution_count": 46,
   "id": "b5f71641",
   "metadata": {},
   "outputs": [
    {
     "name": "stdout",
     "output_type": "stream",
     "text": [
      "[91641.46, 140720.9, 171410.35, 249284.53]\n"
     ]
    }
   ],
   "source": [
    "average_loan_A = round(statistics.mean(list(df_loan.amount[df_loan[\"status\"] == \"A\"])),2)\n",
    "average_loan_B = round(statistics.mean(list(df_loan.amount[df_loan[\"status\"] == \"B\"])),2)\n",
    "average_loan_C = round(statistics.mean(list(df_loan.amount[df_loan[\"status\"] == \"C\"])),2)\n",
    "average_loan_D = round(statistics.mean(list(df_loan.amount[df_loan[\"status\"] == \"D\"])),2)\n",
    "print([average_loan_A, average_loan_B, average_loan_C, average_loan_D])"
   ]
  },
  {
   "cell_type": "markdown",
   "id": "e4fabcfe",
   "metadata": {
    "id": "e4fabcfe"
   },
   "source": [
    "## Tabla  CREDIT CARDS\n",
    "    CREDIT CARDS (CARD),Tarjetas de Crédito (Tarjeta): Cada registro describe una tarjeta de crédito emitida a una cuenta. \n",
    "       Columna \"card_id\": Identificado de registro - 892 unicos\n",
    "       Columna \"disp_id\": Identificador de disposicion - 892 unicos\n",
    "       Columna \"type\": Tipo de tarjeta de credito - 3 unicos\n",
    "                             junior\n",
    "                             classic\n",
    "                             gold\n",
    "       Columna \"issued\": Fecha de emision de tarjeta - 607 unicos\n"
   ]
  },
  {
   "cell_type": "code",
   "execution_count": 47,
   "id": "f916f01b",
   "metadata": {
    "id": "f916f01b"
   },
   "outputs": [
    {
     "data": {
      "text/html": [
       "<div>\n",
       "<style scoped>\n",
       "    .dataframe tbody tr th:only-of-type {\n",
       "        vertical-align: middle;\n",
       "    }\n",
       "\n",
       "    .dataframe tbody tr th {\n",
       "        vertical-align: top;\n",
       "    }\n",
       "\n",
       "    .dataframe thead th {\n",
       "        text-align: right;\n",
       "    }\n",
       "</style>\n",
       "<table border=\"1\" class=\"dataframe\">\n",
       "  <thead>\n",
       "    <tr style=\"text-align: right;\">\n",
       "      <th></th>\n",
       "      <th>card_id</th>\n",
       "      <th>disp_id</th>\n",
       "      <th>type</th>\n",
       "      <th>issued_date</th>\n",
       "    </tr>\n",
       "  </thead>\n",
       "  <tbody>\n",
       "    <tr>\n",
       "      <th>0</th>\n",
       "      <td>1005</td>\n",
       "      <td>9285</td>\n",
       "      <td>classic</td>\n",
       "      <td>1993-11-07</td>\n",
       "    </tr>\n",
       "    <tr>\n",
       "      <th>1</th>\n",
       "      <td>104</td>\n",
       "      <td>588</td>\n",
       "      <td>classic</td>\n",
       "      <td>1994-01-19</td>\n",
       "    </tr>\n",
       "    <tr>\n",
       "      <th>2</th>\n",
       "      <td>747</td>\n",
       "      <td>4915</td>\n",
       "      <td>classic</td>\n",
       "      <td>1994-02-05</td>\n",
       "    </tr>\n",
       "    <tr>\n",
       "      <th>3</th>\n",
       "      <td>70</td>\n",
       "      <td>439</td>\n",
       "      <td>classic</td>\n",
       "      <td>1994-02-08</td>\n",
       "    </tr>\n",
       "    <tr>\n",
       "      <th>4</th>\n",
       "      <td>577</td>\n",
       "      <td>3687</td>\n",
       "      <td>classic</td>\n",
       "      <td>1994-02-15</td>\n",
       "    </tr>\n",
       "  </tbody>\n",
       "</table>\n",
       "</div>"
      ],
      "text/plain": [
       "   card_id  disp_id     type issued_date\n",
       "0     1005     9285  classic  1993-11-07\n",
       "1      104      588  classic  1994-01-19\n",
       "2      747     4915  classic  1994-02-05\n",
       "3       70      439  classic  1994-02-08\n",
       "4      577     3687  classic  1994-02-15"
      ]
     },
     "execution_count": 47,
     "metadata": {},
     "output_type": "execute_result"
    }
   ],
   "source": [
    "df_card = pd.read_csv('cleaned_card.csv', sep = ',')\n",
    "df_card.head()"
   ]
  },
  {
   "cell_type": "code",
   "execution_count": 48,
   "id": "618801a7",
   "metadata": {},
   "outputs": [
    {
     "name": "stdout",
     "output_type": "stream",
     "text": [
      "<class 'pandas.core.frame.DataFrame'>\n",
      "RangeIndex: 892 entries, 0 to 891\n",
      "Data columns (total 4 columns):\n",
      " #   Column       Non-Null Count  Dtype \n",
      "---  ------       --------------  ----- \n",
      " 0   card_id      892 non-null    int64 \n",
      " 1   disp_id      892 non-null    int64 \n",
      " 2   type         892 non-null    object\n",
      " 3   issued_date  892 non-null    object\n",
      "dtypes: int64(2), object(2)\n",
      "memory usage: 28.0+ KB\n"
     ]
    }
   ],
   "source": [
    "df_card.info()"
   ]
  },
  {
   "cell_type": "code",
   "execution_count": 49,
   "id": "f4f5f0dc",
   "metadata": {},
   "outputs": [
    {
     "data": {
      "text/plain": [
       "card_id        892\n",
       "disp_id        892\n",
       "type             3\n",
       "issued_date    607\n",
       "dtype: int64"
      ]
     },
     "execution_count": 49,
     "metadata": {},
     "output_type": "execute_result"
    }
   ],
   "source": [
    "df_card.nunique()"
   ]
  },
  {
   "cell_type": "code",
   "execution_count": 50,
   "id": "d000d8ea",
   "metadata": {},
   "outputs": [
    {
     "data": {
      "text/plain": [
       "card_id        0\n",
       "disp_id        0\n",
       "type           0\n",
       "issued_date    0\n",
       "dtype: int64"
      ]
     },
     "execution_count": 50,
     "metadata": {},
     "output_type": "execute_result"
    }
   ],
   "source": [
    "df_card.isnull().sum()"
   ]
  },
  {
   "cell_type": "markdown",
   "id": "b282da3c",
   "metadata": {
    "id": "b282da3c"
   },
   "source": [
    "## Tabla DEMOGRAPHIC DATA\n",
    "    DEMOGRAPHIC DATA (DISTRICT), Datos Demográficos (Distrito): Cada registro describe las características demográficas \n",
    "    de un distrito.\n",
    "        Columna \"A1\": Identificado de distrito - 77 unicos\n",
    "        Columna \"A2\": Nombre del distrito - 77 unicos\n",
    "        Columna \"A3\": Nombre de la region - 8 unicos\n",
    "        Columna \"A4\": Numero de habitantes - 77 unicos\n",
    "        Columna \"A5\": Numero de municipios con <499 habitantes - 53 unicos\n",
    "        Columna \"A6\": Numero de municipios con 500-1499 habitantes - 36 unicos\n",
    "        Columna \"A7\": Numero de municipios con 2000-9999 habitantes - 17 unicos\n",
    "        Columna \"A8\": Numero de municipios con >10000 habitantes - 6 unicos\n",
    "        Columna \"A9\": Numero de ciudades - 11 unicos\n",
    "        Columna \"A10\": Proporcion de habitantes urbanos - 70 unicos\n",
    "        Columna \"A11\": Salario medio - 76 unicos\n",
    "        Columna \"A12\": Tasa de desempleo 1995 - 71 unicos\n",
    "        Columna \"A13\": Tasa de desempleo de 1996 - 73 unicos\n",
    "        Columna \"A14\": Emprendedores por cada 1000 habitantes - 44 unicos\n",
    "        Columna \"A15\": Numero de delitos cometidos en 1995 - 76 unicos\n",
    "        Columna \"A16\": Numero de delitos cometidos en 1996 - 76 unicos"
   ]
  },
  {
   "cell_type": "code",
   "execution_count": 51,
   "id": "40dcaf76",
   "metadata": {
    "id": "40dcaf76",
    "outputId": "91b8cef1-9a40-4678-e7c1-2ad113b5cc48"
   },
   "outputs": [
    {
     "data": {
      "text/html": [
       "<div>\n",
       "<style scoped>\n",
       "    .dataframe tbody tr th:only-of-type {\n",
       "        vertical-align: middle;\n",
       "    }\n",
       "\n",
       "    .dataframe tbody tr th {\n",
       "        vertical-align: top;\n",
       "    }\n",
       "\n",
       "    .dataframe thead th {\n",
       "        text-align: right;\n",
       "    }\n",
       "</style>\n",
       "<table border=\"1\" class=\"dataframe\">\n",
       "  <thead>\n",
       "    <tr style=\"text-align: right;\">\n",
       "      <th></th>\n",
       "      <th>A1</th>\n",
       "      <th>A2</th>\n",
       "      <th>A3</th>\n",
       "      <th>A4</th>\n",
       "      <th>A5</th>\n",
       "      <th>A6</th>\n",
       "      <th>A7</th>\n",
       "      <th>A8</th>\n",
       "      <th>A9</th>\n",
       "      <th>A10</th>\n",
       "      <th>A11</th>\n",
       "      <th>A12</th>\n",
       "      <th>A13</th>\n",
       "      <th>A14</th>\n",
       "      <th>A15</th>\n",
       "      <th>A16</th>\n",
       "    </tr>\n",
       "  </thead>\n",
       "  <tbody>\n",
       "    <tr>\n",
       "      <th>0</th>\n",
       "      <td>1</td>\n",
       "      <td>Hl.m. Praha</td>\n",
       "      <td>Prague</td>\n",
       "      <td>1204953</td>\n",
       "      <td>0</td>\n",
       "      <td>0</td>\n",
       "      <td>0</td>\n",
       "      <td>1</td>\n",
       "      <td>1</td>\n",
       "      <td>100.0</td>\n",
       "      <td>12541</td>\n",
       "      <td>0.29</td>\n",
       "      <td>0.43</td>\n",
       "      <td>167</td>\n",
       "      <td>85677</td>\n",
       "      <td>99107</td>\n",
       "    </tr>\n",
       "    <tr>\n",
       "      <th>1</th>\n",
       "      <td>2</td>\n",
       "      <td>Benesov</td>\n",
       "      <td>central Bohemia</td>\n",
       "      <td>88884</td>\n",
       "      <td>80</td>\n",
       "      <td>26</td>\n",
       "      <td>6</td>\n",
       "      <td>2</td>\n",
       "      <td>5</td>\n",
       "      <td>46.7</td>\n",
       "      <td>8507</td>\n",
       "      <td>1.67</td>\n",
       "      <td>1.85</td>\n",
       "      <td>132</td>\n",
       "      <td>2159</td>\n",
       "      <td>2674</td>\n",
       "    </tr>\n",
       "    <tr>\n",
       "      <th>2</th>\n",
       "      <td>3</td>\n",
       "      <td>Beroun</td>\n",
       "      <td>central Bohemia</td>\n",
       "      <td>75232</td>\n",
       "      <td>55</td>\n",
       "      <td>26</td>\n",
       "      <td>4</td>\n",
       "      <td>1</td>\n",
       "      <td>5</td>\n",
       "      <td>41.7</td>\n",
       "      <td>8980</td>\n",
       "      <td>1.95</td>\n",
       "      <td>2.21</td>\n",
       "      <td>111</td>\n",
       "      <td>2824</td>\n",
       "      <td>2813</td>\n",
       "    </tr>\n",
       "    <tr>\n",
       "      <th>3</th>\n",
       "      <td>4</td>\n",
       "      <td>Kladno</td>\n",
       "      <td>central Bohemia</td>\n",
       "      <td>149893</td>\n",
       "      <td>63</td>\n",
       "      <td>29</td>\n",
       "      <td>6</td>\n",
       "      <td>2</td>\n",
       "      <td>6</td>\n",
       "      <td>67.4</td>\n",
       "      <td>9753</td>\n",
       "      <td>4.64</td>\n",
       "      <td>5.05</td>\n",
       "      <td>109</td>\n",
       "      <td>5244</td>\n",
       "      <td>5892</td>\n",
       "    </tr>\n",
       "    <tr>\n",
       "      <th>4</th>\n",
       "      <td>5</td>\n",
       "      <td>Kolin</td>\n",
       "      <td>central Bohemia</td>\n",
       "      <td>95616</td>\n",
       "      <td>65</td>\n",
       "      <td>30</td>\n",
       "      <td>4</td>\n",
       "      <td>1</td>\n",
       "      <td>6</td>\n",
       "      <td>51.4</td>\n",
       "      <td>9307</td>\n",
       "      <td>3.85</td>\n",
       "      <td>4.43</td>\n",
       "      <td>118</td>\n",
       "      <td>2616</td>\n",
       "      <td>3040</td>\n",
       "    </tr>\n",
       "  </tbody>\n",
       "</table>\n",
       "</div>"
      ],
      "text/plain": [
       "   A1           A2               A3       A4  A5  A6  A7  A8  A9    A10  \\\n",
       "0   1  Hl.m. Praha           Prague  1204953   0   0   0   1   1  100.0   \n",
       "1   2      Benesov  central Bohemia    88884  80  26   6   2   5   46.7   \n",
       "2   3       Beroun  central Bohemia    75232  55  26   4   1   5   41.7   \n",
       "3   4       Kladno  central Bohemia   149893  63  29   6   2   6   67.4   \n",
       "4   5        Kolin  central Bohemia    95616  65  30   4   1   6   51.4   \n",
       "\n",
       "     A11   A12   A13  A14    A15    A16  \n",
       "0  12541  0.29  0.43  167  85677  99107  \n",
       "1   8507  1.67  1.85  132   2159   2674  \n",
       "2   8980  1.95  2.21  111   2824   2813  \n",
       "3   9753  4.64  5.05  109   5244   5892  \n",
       "4   9307  3.85  4.43  118   2616   3040  "
      ]
     },
     "execution_count": 51,
     "metadata": {},
     "output_type": "execute_result"
    }
   ],
   "source": [
    "df_district = pd.read_csv('district.csv', sep = ';')\n",
    "df_district.head()"
   ]
  },
  {
   "cell_type": "code",
   "execution_count": 52,
   "id": "31a5dd03",
   "metadata": {
    "id": "31a5dd03",
    "outputId": "ee2117ec-4cf2-4328-c201-51b14f49f67d"
   },
   "outputs": [
    {
     "name": "stdout",
     "output_type": "stream",
     "text": [
      "<class 'pandas.core.frame.DataFrame'>\n",
      "RangeIndex: 77 entries, 0 to 76\n",
      "Data columns (total 16 columns):\n",
      " #   Column  Non-Null Count  Dtype  \n",
      "---  ------  --------------  -----  \n",
      " 0   A1      77 non-null     int64  \n",
      " 1   A2      77 non-null     object \n",
      " 2   A3      77 non-null     object \n",
      " 3   A4      77 non-null     int64  \n",
      " 4   A5      77 non-null     int64  \n",
      " 5   A6      77 non-null     int64  \n",
      " 6   A7      77 non-null     int64  \n",
      " 7   A8      77 non-null     int64  \n",
      " 8   A9      77 non-null     int64  \n",
      " 9   A10     77 non-null     float64\n",
      " 10  A11     77 non-null     int64  \n",
      " 11  A12     77 non-null     object \n",
      " 12  A13     77 non-null     float64\n",
      " 13  A14     77 non-null     int64  \n",
      " 14  A15     77 non-null     object \n",
      " 15  A16     77 non-null     int64  \n",
      "dtypes: float64(2), int64(10), object(4)\n",
      "memory usage: 9.8+ KB\n"
     ]
    }
   ],
   "source": [
    "df_district.info()"
   ]
  },
  {
   "cell_type": "code",
   "execution_count": 53,
   "id": "05d8e0b4",
   "metadata": {},
   "outputs": [
    {
     "data": {
      "text/plain": [
       "trans_id      1056320\n",
       "account_id       4500\n",
       "date             2191\n",
       "type                2\n",
       "operation           5\n",
       "amount          40400\n",
       "balance        542739\n",
       "k_symbol            7\n",
       "bank               13\n",
       "account          7665\n",
       "dtype: int64"
      ]
     },
     "execution_count": 53,
     "metadata": {},
     "output_type": "execute_result"
    }
   ],
   "source": [
    "df_trans.nunique()"
   ]
  },
  {
   "cell_type": "code",
   "execution_count": 54,
   "id": "dc0c1060",
   "metadata": {},
   "outputs": [
    {
     "data": {
      "text/plain": [
       "trans_id           0\n",
       "account_id         0\n",
       "date               0\n",
       "type           16666\n",
       "operation     183114\n",
       "amount             0\n",
       "balance            0\n",
       "k_symbol      535314\n",
       "bank          782812\n",
       "account       760931\n",
       "dtype: int64"
      ]
     },
     "execution_count": 54,
     "metadata": {},
     "output_type": "execute_result"
    }
   ],
   "source": [
    "df_trans.isnull().sum()"
   ]
  },
  {
   "cell_type": "markdown",
   "id": "75b5d92e",
   "metadata": {},
   "source": [
    "# - - - - - - - - - - - - - - - - - - - - - - - - - - - - - - - - - - - - - - - - - - - - - - - - - - - - - - - - -"
   ]
  },
  {
   "cell_type": "markdown",
   "id": "0c03c870",
   "metadata": {},
   "source": [
    "## Explorando la tabla de información completa de pagos de préstamos"
   ]
  },
  {
   "cell_type": "code",
   "execution_count": 55,
   "id": "a206f8fe",
   "metadata": {},
   "outputs": [
    {
     "data": {
      "text/html": [
       "<div>\n",
       "<style scoped>\n",
       "    .dataframe tbody tr th:only-of-type {\n",
       "        vertical-align: middle;\n",
       "    }\n",
       "\n",
       "    .dataframe tbody tr th {\n",
       "        vertical-align: top;\n",
       "    }\n",
       "\n",
       "    .dataframe thead th {\n",
       "        text-align: right;\n",
       "    }\n",
       "</style>\n",
       "<table border=\"1\" class=\"dataframe\">\n",
       "  <thead>\n",
       "    <tr style=\"text-align: right;\">\n",
       "      <th></th>\n",
       "      <th>index</th>\n",
       "      <th>client_id</th>\n",
       "      <th>district_id</th>\n",
       "      <th>sex</th>\n",
       "      <th>age</th>\n",
       "      <th>age_group</th>\n",
       "      <th>account_id</th>\n",
       "      <th>type</th>\n",
       "      <th>loan_id</th>\n",
       "      <th>date</th>\n",
       "      <th>...</th>\n",
       "      <th>A7</th>\n",
       "      <th>A8</th>\n",
       "      <th>total_of_cities</th>\n",
       "      <th>A10</th>\n",
       "      <th>avg_salary</th>\n",
       "      <th>A12</th>\n",
       "      <th>A13</th>\n",
       "      <th>A14</th>\n",
       "      <th>A15</th>\n",
       "      <th>A16</th>\n",
       "    </tr>\n",
       "  </thead>\n",
       "  <tbody>\n",
       "    <tr>\n",
       "      <th>0</th>\n",
       "      <td>0</td>\n",
       "      <td>2</td>\n",
       "      <td>1</td>\n",
       "      <td>M</td>\n",
       "      <td>53</td>\n",
       "      <td>50</td>\n",
       "      <td>2.0</td>\n",
       "      <td>OWNER</td>\n",
       "      <td>4959</td>\n",
       "      <td>1994-01-05</td>\n",
       "      <td>...</td>\n",
       "      <td>0</td>\n",
       "      <td>1</td>\n",
       "      <td>1</td>\n",
       "      <td>100.0</td>\n",
       "      <td>12541</td>\n",
       "      <td>0.29</td>\n",
       "      <td>0.43</td>\n",
       "      <td>167</td>\n",
       "      <td>85677</td>\n",
       "      <td>99107</td>\n",
       "    </tr>\n",
       "    <tr>\n",
       "      <th>1</th>\n",
       "      <td>79</td>\n",
       "      <td>25</td>\n",
       "      <td>21</td>\n",
       "      <td>F</td>\n",
       "      <td>59</td>\n",
       "      <td>50</td>\n",
       "      <td>19.0</td>\n",
       "      <td>OWNER</td>\n",
       "      <td>4961</td>\n",
       "      <td>1996-04-29</td>\n",
       "      <td>...</td>\n",
       "      <td>7</td>\n",
       "      <td>1</td>\n",
       "      <td>7</td>\n",
       "      <td>67.0</td>\n",
       "      <td>9104</td>\n",
       "      <td>1.51</td>\n",
       "      <td>2.07</td>\n",
       "      <td>123</td>\n",
       "      <td>2299</td>\n",
       "      <td>2354</td>\n",
       "    </tr>\n",
       "    <tr>\n",
       "      <th>2</th>\n",
       "      <td>87</td>\n",
       "      <td>31</td>\n",
       "      <td>68</td>\n",
       "      <td>M</td>\n",
       "      <td>36</td>\n",
       "      <td>30</td>\n",
       "      <td>25.0</td>\n",
       "      <td>OWNER</td>\n",
       "      <td>4962</td>\n",
       "      <td>1997-12-08</td>\n",
       "      <td>...</td>\n",
       "      <td>18</td>\n",
       "      <td>2</td>\n",
       "      <td>6</td>\n",
       "      <td>57.2</td>\n",
       "      <td>9893</td>\n",
       "      <td>4.09</td>\n",
       "      <td>4.72</td>\n",
       "      <td>96</td>\n",
       "      <td>5623</td>\n",
       "      <td>5887</td>\n",
       "    </tr>\n",
       "    <tr>\n",
       "      <th>3</th>\n",
       "      <td>102</td>\n",
       "      <td>45</td>\n",
       "      <td>20</td>\n",
       "      <td>M</td>\n",
       "      <td>46</td>\n",
       "      <td>40</td>\n",
       "      <td>37.0</td>\n",
       "      <td>OWNER</td>\n",
       "      <td>4967</td>\n",
       "      <td>1998-10-14</td>\n",
       "      <td>...</td>\n",
       "      <td>3</td>\n",
       "      <td>1</td>\n",
       "      <td>4</td>\n",
       "      <td>58.4</td>\n",
       "      <td>8547</td>\n",
       "      <td>2.65</td>\n",
       "      <td>3.64</td>\n",
       "      <td>120</td>\n",
       "      <td>1563</td>\n",
       "      <td>1542</td>\n",
       "    </tr>\n",
       "    <tr>\n",
       "      <th>4</th>\n",
       "      <td>107</td>\n",
       "      <td>46</td>\n",
       "      <td>19</td>\n",
       "      <td>F</td>\n",
       "      <td>58</td>\n",
       "      <td>50</td>\n",
       "      <td>38.0</td>\n",
       "      <td>OWNER</td>\n",
       "      <td>4968</td>\n",
       "      <td>1998-04-19</td>\n",
       "      <td>...</td>\n",
       "      <td>3</td>\n",
       "      <td>1</td>\n",
       "      <td>4</td>\n",
       "      <td>52.7</td>\n",
       "      <td>8402</td>\n",
       "      <td>3.13</td>\n",
       "      <td>3.98</td>\n",
       "      <td>120</td>\n",
       "      <td>999</td>\n",
       "      <td>1099</td>\n",
       "    </tr>\n",
       "  </tbody>\n",
       "</table>\n",
       "<p>5 rows × 31 columns</p>\n",
       "</div>"
      ],
      "text/plain": [
       "   index  client_id  district_id sex  age  age_group  account_id   type  \\\n",
       "0      0          2            1   M   53         50         2.0  OWNER   \n",
       "1     79         25           21   F   59         50        19.0  OWNER   \n",
       "2     87         31           68   M   36         30        25.0  OWNER   \n",
       "3    102         45           20   M   46         40        37.0  OWNER   \n",
       "4    107         46           19   F   58         50        38.0  OWNER   \n",
       "\n",
       "   loan_id        date  ...  A7  A8  total_of_cities    A10  avg_salary   A12  \\\n",
       "0     4959  1994-01-05  ...   0   1                1  100.0       12541  0.29   \n",
       "1     4961  1996-04-29  ...   7   1                7   67.0        9104  1.51   \n",
       "2     4962  1997-12-08  ...  18   2                6   57.2        9893  4.09   \n",
       "3     4967  1998-10-14  ...   3   1                4   58.4        8547  2.65   \n",
       "4     4968  1998-04-19  ...   3   1                4   52.7        8402  3.13   \n",
       "\n",
       "    A13  A14    A15    A16  \n",
       "0  0.43  167  85677  99107  \n",
       "1  2.07  123   2299   2354  \n",
       "2  4.72   96   5623   5887  \n",
       "3  3.64  120   1563   1542  \n",
       "4  3.98  120    999   1099  \n",
       "\n",
       "[5 rows x 31 columns]"
      ]
     },
     "execution_count": 55,
     "metadata": {},
     "output_type": "execute_result"
    }
   ],
   "source": [
    "df_lp = pd.read_csv('Full loan payment table information.csv', sep = ',')\n",
    "df_lp.head()"
   ]
  },
  {
   "cell_type": "code",
   "execution_count": 56,
   "id": "b84aafdc",
   "metadata": {},
   "outputs": [
    {
     "name": "stdout",
     "output_type": "stream",
     "text": [
      "<class 'pandas.core.frame.DataFrame'>\n",
      "RangeIndex: 682 entries, 0 to 681\n",
      "Data columns (total 31 columns):\n",
      " #   Column           Non-Null Count  Dtype  \n",
      "---  ------           --------------  -----  \n",
      " 0   index            682 non-null    int64  \n",
      " 1   client_id        682 non-null    int64  \n",
      " 2   district_id      682 non-null    int64  \n",
      " 3   sex              682 non-null    object \n",
      " 4   age              682 non-null    int64  \n",
      " 5   age_group        682 non-null    int64  \n",
      " 6   account_id       682 non-null    float64\n",
      " 7   type             682 non-null    object \n",
      " 8   loan_id          682 non-null    int64  \n",
      " 9   date             682 non-null    object \n",
      " 10  amount           682 non-null    int64  \n",
      " 11  duration         682 non-null    int64  \n",
      " 12  payments         682 non-null    float64\n",
      " 13  status           682 non-null    object \n",
      " 14  trans_amount     682 non-null    float64\n",
      " 15  balance          682 non-null    float64\n",
      " 16  district_name    682 non-null    object \n",
      " 17  district_area    682 non-null    object \n",
      " 18  population       682 non-null    int64  \n",
      " 19  A5               682 non-null    int64  \n",
      " 20  A6               682 non-null    int64  \n",
      " 21  A7               682 non-null    int64  \n",
      " 22  A8               682 non-null    int64  \n",
      " 23  total_of_cities  682 non-null    int64  \n",
      " 24  A10              682 non-null    float64\n",
      " 25  avg_salary       682 non-null    int64  \n",
      " 26  A12              682 non-null    object \n",
      " 27  A13              682 non-null    float64\n",
      " 28  A14              682 non-null    int64  \n",
      " 29  A15              682 non-null    object \n",
      " 30  A16              682 non-null    int64  \n",
      "dtypes: float64(6), int64(17), object(8)\n",
      "memory usage: 165.3+ KB\n"
     ]
    }
   ],
   "source": [
    "df_lp.info()"
   ]
  },
  {
   "cell_type": "code",
   "execution_count": 57,
   "id": "2368b0c4",
   "metadata": {},
   "outputs": [
    {
     "data": {
      "text/plain": [
       "index              682\n",
       "client_id          682\n",
       "district_id         77\n",
       "sex                  2\n",
       "age                 46\n",
       "age_group            6\n",
       "account_id         682\n",
       "type                 1\n",
       "loan_id            682\n",
       "date               559\n",
       "amount             645\n",
       "duration             5\n",
       "payments           577\n",
       "status               4\n",
       "trans_amount       666\n",
       "balance            682\n",
       "district_name       77\n",
       "district_area        8\n",
       "population          77\n",
       "A5                  53\n",
       "A6                  36\n",
       "A7                  17\n",
       "A8                   6\n",
       "total_of_cities     11\n",
       "A10                 70\n",
       "avg_salary          76\n",
       "A12                 71\n",
       "A13                 73\n",
       "A14                 44\n",
       "A15                 76\n",
       "A16                 76\n",
       "dtype: int64"
      ]
     },
     "execution_count": 57,
     "metadata": {},
     "output_type": "execute_result"
    }
   ],
   "source": [
    "df_lp.nunique()"
   ]
  },
  {
   "cell_type": "code",
   "execution_count": 58,
   "id": "185dddd3",
   "metadata": {},
   "outputs": [
    {
     "data": {
      "text/plain": [
       "index              0\n",
       "client_id          0\n",
       "district_id        0\n",
       "sex                0\n",
       "age                0\n",
       "age_group          0\n",
       "account_id         0\n",
       "type               0\n",
       "loan_id            0\n",
       "date               0\n",
       "amount             0\n",
       "duration           0\n",
       "payments           0\n",
       "status             0\n",
       "trans_amount       0\n",
       "balance            0\n",
       "district_name      0\n",
       "district_area      0\n",
       "population         0\n",
       "A5                 0\n",
       "A6                 0\n",
       "A7                 0\n",
       "A8                 0\n",
       "total_of_cities    0\n",
       "A10                0\n",
       "avg_salary         0\n",
       "A12                0\n",
       "A13                0\n",
       "A14                0\n",
       "A15                0\n",
       "A16                0\n",
       "dtype: int64"
      ]
     },
     "execution_count": 58,
     "metadata": {},
     "output_type": "execute_result"
    }
   ],
   "source": [
    "df_lp.isnull().sum()"
   ]
  },
  {
   "cell_type": "code",
   "execution_count": 59,
   "id": "54b93a54",
   "metadata": {},
   "outputs": [],
   "source": [
    "# Dividimos la tabla según los status de cada cliente:\n",
    "A = df_lp[df_lp['status'] == 'A']\n",
    "B = df_lp[df_lp['status'] == 'B']\n",
    "C = df_lp[df_lp['status'] == 'C']\n",
    "D = df_lp[df_lp['status'] == 'D']"
   ]
  },
  {
   "cell_type": "markdown",
   "id": "b943686e",
   "metadata": {},
   "source": [
    "### Sexo por categoría"
   ]
  },
  {
   "cell_type": "code",
   "execution_count": 60,
   "id": "e52e8eee",
   "metadata": {},
   "outputs": [
    {
     "data": {
      "text/plain": [
       "<AxesSubplot:xlabel='sex', ylabel='Count'>"
      ]
     },
     "execution_count": 60,
     "metadata": {},
     "output_type": "execute_result"
    },
    {
     "data": {
      "image/png": "[encoded data removed]",
      "text/plain": [
       "<Figure size 1080x360 with 4 Axes>"
      ]
     },
     "metadata": {
      "needs_background": "light"
     },
     "output_type": "display_data"
    }
   ],
   "source": [
    "plt.figure(figsize = (15,5))\n",
    "plt.subplot(1,4,1)\n",
    "sns.histplot(data = A, x = 'sex', color = 'b', legend = 'A')\n",
    "plt.subplot(1,4,2)\n",
    "sns.histplot(data = B, x = 'sex', color ='r')\n",
    "plt.subplot(1,4,3)\n",
    "sns.histplot(data = C, x = 'sex', color = 'g')\n",
    "plt.subplot(1,4,4)\n",
    "sns.histplot(data = D, x = 'sex', color = 'm')"
   ]
  },
  {
   "cell_type": "markdown",
   "id": "5dae3388",
   "metadata": {},
   "source": [
    "En esta figura se encuentran las diferentes categorías: A en azul; B en rojo; C en verde; y D en magenta. Aquí podemos observar que la cantidad de hombres y mujeres que lograron pagar sus préstamos con éxito (en azul) no muestran una gran diferencia, al igual como sucede en aquellos que van al día con sus pagos (en verde). Sin embargo, la gráfica de morosos (en rojo) nos muestra un aparente 'gran' contraste, y digo aparente porque la cantidad de clientes que hay de diferencia entre ambos es mínima, apenas de 3 personas, solo que el gráfico al tener una escala menor muestra una diferencia mucho más grande. Lo mismo sucede con los que se quedaron atrás con sus pagos (en magenta)."
   ]
  },
  {
   "cell_type": "markdown",
   "id": "b5c7c48b",
   "metadata": {},
   "source": [
    "### Distrito por categoría"
   ]
  },
  {
   "cell_type": "code",
   "execution_count": 61,
   "id": "8d6420b1",
   "metadata": {},
   "outputs": [
    {
     "data": {
      "text/plain": [
       "<AxesSubplot:xlabel='district_area', ylabel='Count'>"
      ]
     },
     "execution_count": 61,
     "metadata": {},
     "output_type": "execute_result"
    },
    {
     "data": {
      "image/png": "[encoded data removed]",
      "text/plain": [
       "<Figure size 1080x720 with 4 Axes>"
      ]
     },
     "metadata": {
      "needs_background": "light"
     },
     "output_type": "display_data"
    }
   ],
   "source": [
    "plt.figure(figsize = (15,10))\n",
    "plt.subplot(4,1,1)\n",
    "sns.histplot(data = A, x = 'district_area', color = 'b')\n",
    "plt.subplot(4,1,2)\n",
    "sns.histplot(data = B, x = 'district_area', color ='r')\n",
    "plt.subplot(4,1,3)\n",
    "sns.histplot(data = C, x = 'district_area', color = 'g')\n",
    "plt.subplot(4,1,4)\n",
    "sns.histplot(data = D, x = 'district_area', color = 'm')"
   ]
  },
  {
   "cell_type": "markdown",
   "id": "cfbb8da8",
   "metadata": {},
   "source": [
    "Con este nuevo gráfico, podemos notar con claridad cual es el área del distrito que más deudores poseen (North Moravia) y aquellos que más pagan con éxito sus préstamos (South Moravia). Ahora vamos a ver el estado de cada distrito de North & South Moravia:"
   ]
  },
  {
   "cell_type": "code",
   "execution_count": 62,
   "id": "2da9a335",
   "metadata": {},
   "outputs": [],
   "source": [
    "Ad = A[A['district_area'] == 'south Moravia']\n",
    "Bd = B[B['district_area'] == 'north Moravia']\n",
    "Cd = C[C['district_area'] == 'south Moravia']\n",
    "Dd = D[D['district_area'] == 'north Moravia']"
   ]
  },
  {
   "cell_type": "code",
   "execution_count": 63,
   "id": "26a0b906",
   "metadata": {},
   "outputs": [
    {
     "data": {
      "text/plain": [
       "<AxesSubplot:xlabel='district_name', ylabel='Count'>"
      ]
     },
     "execution_count": 63,
     "metadata": {},
     "output_type": "execute_result"
    },
    {
     "data": {
      "image/png": "[encoded data removed]",
      "text/plain": [
       "<Figure size 1080x720 with 4 Axes>"
      ]
     },
     "metadata": {
      "needs_background": "light"
     },
     "output_type": "display_data"
    }
   ],
   "source": [
    "plt.figure(figsize = (15,10))\n",
    "plt.subplot(4,1,1)\n",
    "sns.histplot(data = Ad, x = 'district_name', color = 'b')\n",
    "plt.subplot(4,1,2)\n",
    "sns.histplot(data = Bd, x = 'district_name', color ='r')\n",
    "plt.subplot(4,1,3)\n",
    "sns.histplot(data = Cd, x = 'district_name', color = 'g')\n",
    "plt.subplot(4,1,4)\n",
    "sns.histplot(data = Dd, x = 'district_name', color = 'm')"
   ]
  },
  {
   "cell_type": "markdown",
   "id": "4daf6369",
   "metadata": {},
   "source": [
    "Con esto, podemos aseverar que los mejores pagadores provienen de la ciudad de Brno y Zlin, mientras que aquellos que viven en Ostrava y Karviná, tienen la tendencia en caer a un estado moroso. Ahora... buscaremos datos de cada ciudad:"
   ]
  },
  {
   "cell_type": "code",
   "execution_count": 64,
   "id": "f9ccec5a",
   "metadata": {},
   "outputs": [],
   "source": [
    "Ad = Ad[Ad['district_name'] == 'Zlin']\n",
    "Cd = Cd[Cd['district_name'] == 'Brno - mesto']\n",
    "Bd = Bd[Bd['district_name'] == 'Ostrava - mesto']\n",
    "Dd = Dd[Dd['district_name'] == 'Karvina']"
   ]
  },
  {
   "cell_type": "code",
   "execution_count": 65,
   "id": "74d9f05c",
   "metadata": {},
   "outputs": [
    {
     "name": "stdout",
     "output_type": "stream",
     "text": [
      "----Mejor zona de clientes----\n",
      "\n",
      "\n",
      "CLIENTES QUE VIVEN EN ZLIN: \n",
      "Salario Medio: 9624\n",
      "Número de habitantes: 197099\n",
      "Tasa de desempleo en 1996: 2.31\n",
      "Delitos cometidos en 1996: 4265\n",
      "Emprendedores por cada 1000 habitantes: 145\n",
      "\n",
      "CLIENTES QUE VIVEN EN BRNO - MESTO: \n",
      "Salario Medio: 9897\n",
      "Número de habitantes: 387570\n",
      "Tasa de desempleo en 1996: 1.96\n",
      "Delitos cometidos en 1996: 18696\n",
      "Emprendedores por cada 1000 habitantes: 140\n",
      "\n",
      "----Peor zona de clientes----\n",
      "\n",
      "\n",
      "CLIENTES QUE VIVEN EN OSTRAVA - MESTO: \n",
      "Salario Medio: 10673\n",
      "Número de habitantes: 323870\n",
      "Tasa de desempleo en 1996: 5.44\n",
      "Delitos cometidos en 1996: 18347\n",
      "Emprendedores por cada 1000 habitantes: 100\n",
      "\n",
      "CLIENTES QUE VIVEN EN Karvina: \n",
      "Salario Medio: 10177\n",
      "Número de habitantes: 285387\n",
      "Tasa de desempleo en 1996: 7.75\n",
      "Delitos cometidos en 1996: 10108\n",
      "Emprendedores por cada 1000 habitantes: 81\n"
     ]
    }
   ],
   "source": [
    "print('----Mejor zona de clientes----\\n')\n",
    "\n",
    "print('\\nCLIENTES QUE VIVEN EN ZLIN: \\nSalario Medio: ' + str(Ad['avg_salary'].iloc[0]))\n",
    "print('Número de habitantes: ' + str(Ad['population'].iloc[0]))\n",
    "print('Tasa de desempleo en 1996: ' + str(Ad['A13'].iloc[0]))\n",
    "print('Delitos cometidos en 1996: ' + str(Ad['A16'].iloc[0]))\n",
    "print('Emprendedores por cada 1000 habitantes: ' + str(Ad['A14'].iloc[0]))\n",
    "\n",
    "print('\\nCLIENTES QUE VIVEN EN BRNO - MESTO: \\nSalario Medio: ' + str(Cd['avg_salary'].iloc[0]))\n",
    "print('Número de habitantes: ' + str(Cd['population'].iloc[0]))\n",
    "print('Tasa de desempleo en 1996: ' + str(Cd['A13'].iloc[0]))\n",
    "print('Delitos cometidos en 1996: ' + str(Cd['A16'].iloc[0]))\n",
    "print('Emprendedores por cada 1000 habitantes: ' + str(Cd['A14'].iloc[0]))\n",
    "\n",
    "print('\\n----Peor zona de clientes----\\n')\n",
    "\n",
    "print('\\nCLIENTES QUE VIVEN EN OSTRAVA - MESTO: \\nSalario Medio: ' + str(Bd['avg_salary'].iloc[0]))\n",
    "print('Número de habitantes: ' + str(Bd['population'].iloc[0]))\n",
    "print('Tasa de desempleo en 1996: ' + str(Bd['A13'].iloc[0]))\n",
    "print('Delitos cometidos en 1996: ' + str(Bd['A16'].iloc[0]))\n",
    "print('Emprendedores por cada 1000 habitantes: ' + str(Bd['A14'].iloc[0]))\n",
    "\n",
    "print('\\nCLIENTES QUE VIVEN EN Karvina: \\nSalario Medio: ' + str(Dd['avg_salary'].iloc[0]))\n",
    "print('Número de habitantes: ' + str(Dd['population'].iloc[0]))\n",
    "print('Tasa de desempleo en 1996: ' + str(Dd['A13'].iloc[0]))\n",
    "print('Delitos cometidos en 1996: ' + str(Dd['A16'].iloc[0]))\n",
    "print('Emprendedores por cada 1000 habitantes: ' + str(Dd['A14'].iloc[0]))"
   ]
  },
  {
   "cell_type": "markdown",
   "id": "73f24640",
   "metadata": {},
   "source": [
    "# Conclusión:\n",
    "\n",
    "Con esta comparativa se puede demostrar que las variables importantes radican en: El salario medio, Número de habitantes, Tasa de desempleo y Emprendedores por cada 100 habitantes. Esta información es de gran importancia, porque nos ayuda a clasificar a los futuros clientes, así como formar un perfil de los mismos y saber si pueden ser aptos (o no) para recibir un préstamo en el futuro."
   ]
  },
  {
   "cell_type": "code",
   "execution_count": null,
   "id": "8d5fb388",
   "metadata": {},
   "outputs": [],
   "source": []
  }
 ],
 "metadata": {
  "colab": {
   "provenance": []
  },
  "kernelspec": {
   "display_name": "Python 3 (ipykernel)",
   "language": "python",
   "name": "python3"
  },
  "language_info": {
   "codemirror_mode": {
    "name": "ipython",
    "version": 3
   },
   "file_extension": ".py",
   "mimetype": "text/x-python",
   "name": "python",
   "nbconvert_exporter": "python",
   "pygments_lexer": "ipython3",
   "version": "3.9.7"
  }
 },
 "nbformat": 4,
 "nbformat_minor": 5
}
